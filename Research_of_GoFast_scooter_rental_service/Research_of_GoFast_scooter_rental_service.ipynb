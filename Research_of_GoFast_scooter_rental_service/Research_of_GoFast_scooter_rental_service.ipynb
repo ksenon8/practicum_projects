{
  "cells": [
    {
      "cell_type": "markdown",
      "id": "9f92e14f",
      "metadata": {
        "id": "9f92e14f"
      },
      "source": [
        "# Проект № 4: Анализ сервиса аренды самокатов GoFast\n",
        "## Описание проекта\n",
        "Нам были переданы данные популярного сервиса аренды самокатов GoFast о некоторых пользователях из нескольких городов, а также об их поездках. Перед нами стоит задача проанализировать данные и проверить некоторые гипотезы, которые могут помочь бизнесу вырасти.\n",
        "\n",
        "Чтобы совершать поездки по городу, пользователи сервиса GoFast пользуются мобильным приложением. Сервисом можно пользоваться:\n",
        "без подписки\n",
        "- абонентская плата отсутствует;\n",
        "- стоимость одной минуты поездки — 8 рублей;\n",
        "- стоимость старта (начала поездки) — 50 рублей;\n",
        "\n",
        "\n",
        "с подпиской Ultra\n",
        "- абонентская плата — 199 рублей в месяц;\n",
        "- стоимость одной минуты поездки — 6 рублей;\n",
        "- стоимость старта — бесплатно.\n",
        "## Описание данных\n",
        "В основных данных есть информация о пользователях, их поездках и подписках. Есть и дополнительная информация — о количестве обращений пользователей в техподдержку сервиса до и после обновления технической инфраструктуры.\n",
        "\n",
        "\n",
        "- Пользователи — users_go.csv\n",
        "- Поездки — rides_go.csv\n",
        "- Подписки — subscriptions_go.csv\n",
        "## План работы\n",
        "\n",
        "1) Загрузка данных\n",
        "    \n",
        "    Загружаем данные, выводим первые несколько строк и основную информацию о нем.\n",
        "2) Предобработка данных\n",
        "\n",
        "    Обработка даты, поиск дубликатов.\n",
        "3) Исследовательский анализ данных\n",
        "\n",
        "    Оценим следующие параметры\n",
        "        \n",
        "        по датафрейму users:\n",
        "        - частота встречаемости городов\n",
        "        - соотношение пользователей с подпиской и без\n",
        "        - возраст пользователей\n",
        "        по датафрейму rides:\n",
        "        - расстояние, которое пользователь преодолел за одну поездку\n",
        "        - продолжительность поездок\n",
        "4) Объединение данных\n",
        "\n",
        "    Объедини данные, выделим из них в разные категории (с и без подписки), проанализируем категории по отдельности.\n",
        "5) Подсчет выручки\n",
        "\n",
        "    Созададим датафрейм с агрегированными данными о поездках для каждого пользователя, расчитаем выручку, которую он принес.\n",
        "6) Проверка гипотез\n",
        "\n",
        "7) Распределения\n",
        "\n",
        "8) Общий вывод"
      ]
    },
    {
      "cell_type": "code",
      "execution_count": null,
      "id": "72576667",
      "metadata": {
        "colab": {
          "base_uri": "https://localhost:8080/"
        },
        "id": "72576667",
        "outputId": "05242e64-6166-4b0e-caaf-c6cd7061d844"
      },
      "outputs": [
        {
          "output_type": "stream",
          "name": "stdout",
          "text": [
            "Mounted at /content/drive\n"
          ]
        }
      ],
      "source": [
        "from scipy import stats as st\n",
        "\n",
        "from math import factorial, sqrt\n",
        "from google.colab import drive\n",
        "from importlib import reload\n",
        "\n",
        "import matplotlib.pyplot as plt\n",
        "import pandas as pd\n",
        "import numpy as np\n",
        "\n",
        "import warnings\n",
        "import datetime\n",
        "import random\n",
        "\n",
        "warnings.filterwarnings(\"ignore\")\n",
        "drive.mount('/content/drive')"
      ]
    },
    {
      "cell_type": "markdown",
      "id": "c42cbe00",
      "metadata": {
        "id": "c42cbe00"
      },
      "source": [
        "#### Шаг 1. Загрузка данных"
      ]
    },
    {
      "cell_type": "markdown",
      "id": "c32b6dcd",
      "metadata": {
        "id": "c32b6dcd"
      },
      "source": [
        "Работа с данными о пользователях (Users)"
      ]
    },
    {
      "cell_type": "code",
      "execution_count": null,
      "id": "eff9f206",
      "metadata": {
        "scrolled": false,
        "colab": {
          "base_uri": "https://localhost:8080/",
          "height": 206
        },
        "id": "eff9f206",
        "outputId": "d5c75ac9-66ef-4469-b8b0-7cf187c8a548"
      },
      "outputs": [
        {
          "output_type": "execute_result",
          "data": {
            "text/plain": [
              "   user_id        name  age            city subscription_type\n",
              "0        1        Кира   22          Тюмень             ultra\n",
              "1        2   Станислав   31            Омск             ultra\n",
              "2        3     Алексей   20          Москва             ultra\n",
              "3        4  Константин   26  Ростов-на-Дону             ultra\n",
              "4        5       Адель   28            Омск             ultra"
            ],
            "text/html": [
              "\n",
              "  <div id=\"df-f2b49c73-749c-489b-a5e9-f18b80d7f2be\">\n",
              "    <div class=\"colab-df-container\">\n",
              "      <div>\n",
              "<style scoped>\n",
              "    .dataframe tbody tr th:only-of-type {\n",
              "        vertical-align: middle;\n",
              "    }\n",
              "\n",
              "    .dataframe tbody tr th {\n",
              "        vertical-align: top;\n",
              "    }\n",
              "\n",
              "    .dataframe thead th {\n",
              "        text-align: right;\n",
              "    }\n",
              "</style>\n",
              "<table border=\"1\" class=\"dataframe\">\n",
              "  <thead>\n",
              "    <tr style=\"text-align: right;\">\n",
              "      <th></th>\n",
              "      <th>user_id</th>\n",
              "      <th>name</th>\n",
              "      <th>age</th>\n",
              "      <th>city</th>\n",
              "      <th>subscription_type</th>\n",
              "    </tr>\n",
              "  </thead>\n",
              "  <tbody>\n",
              "    <tr>\n",
              "      <th>0</th>\n",
              "      <td>1</td>\n",
              "      <td>Кира</td>\n",
              "      <td>22</td>\n",
              "      <td>Тюмень</td>\n",
              "      <td>ultra</td>\n",
              "    </tr>\n",
              "    <tr>\n",
              "      <th>1</th>\n",
              "      <td>2</td>\n",
              "      <td>Станислав</td>\n",
              "      <td>31</td>\n",
              "      <td>Омск</td>\n",
              "      <td>ultra</td>\n",
              "    </tr>\n",
              "    <tr>\n",
              "      <th>2</th>\n",
              "      <td>3</td>\n",
              "      <td>Алексей</td>\n",
              "      <td>20</td>\n",
              "      <td>Москва</td>\n",
              "      <td>ultra</td>\n",
              "    </tr>\n",
              "    <tr>\n",
              "      <th>3</th>\n",
              "      <td>4</td>\n",
              "      <td>Константин</td>\n",
              "      <td>26</td>\n",
              "      <td>Ростов-на-Дону</td>\n",
              "      <td>ultra</td>\n",
              "    </tr>\n",
              "    <tr>\n",
              "      <th>4</th>\n",
              "      <td>5</td>\n",
              "      <td>Адель</td>\n",
              "      <td>28</td>\n",
              "      <td>Омск</td>\n",
              "      <td>ultra</td>\n",
              "    </tr>\n",
              "  </tbody>\n",
              "</table>\n",
              "</div>\n",
              "      <button class=\"colab-df-convert\" onclick=\"convertToInteractive('df-f2b49c73-749c-489b-a5e9-f18b80d7f2be')\"\n",
              "              title=\"Convert this dataframe to an interactive table.\"\n",
              "              style=\"display:none;\">\n",
              "        \n",
              "  <svg xmlns=\"http://www.w3.org/2000/svg\" height=\"24px\"viewBox=\"0 0 24 24\"\n",
              "       width=\"24px\">\n",
              "    <path d=\"M0 0h24v24H0V0z\" fill=\"none\"/>\n",
              "    <path d=\"M18.56 5.44l.94 2.06.94-2.06 2.06-.94-2.06-.94-.94-2.06-.94 2.06-2.06.94zm-11 1L8.5 8.5l.94-2.06 2.06-.94-2.06-.94L8.5 2.5l-.94 2.06-2.06.94zm10 10l.94 2.06.94-2.06 2.06-.94-2.06-.94-.94-2.06-.94 2.06-2.06.94z\"/><path d=\"M17.41 7.96l-1.37-1.37c-.4-.4-.92-.59-1.43-.59-.52 0-1.04.2-1.43.59L10.3 9.45l-7.72 7.72c-.78.78-.78 2.05 0 2.83L4 21.41c.39.39.9.59 1.41.59.51 0 1.02-.2 1.41-.59l7.78-7.78 2.81-2.81c.8-.78.8-2.07 0-2.86zM5.41 20L4 18.59l7.72-7.72 1.47 1.35L5.41 20z\"/>\n",
              "  </svg>\n",
              "      </button>\n",
              "      \n",
              "  <style>\n",
              "    .colab-df-container {\n",
              "      display:flex;\n",
              "      flex-wrap:wrap;\n",
              "      gap: 12px;\n",
              "    }\n",
              "\n",
              "    .colab-df-convert {\n",
              "      background-color: #E8F0FE;\n",
              "      border: none;\n",
              "      border-radius: 50%;\n",
              "      cursor: pointer;\n",
              "      display: none;\n",
              "      fill: #1967D2;\n",
              "      height: 32px;\n",
              "      padding: 0 0 0 0;\n",
              "      width: 32px;\n",
              "    }\n",
              "\n",
              "    .colab-df-convert:hover {\n",
              "      background-color: #E2EBFA;\n",
              "      box-shadow: 0px 1px 2px rgba(60, 64, 67, 0.3), 0px 1px 3px 1px rgba(60, 64, 67, 0.15);\n",
              "      fill: #174EA6;\n",
              "    }\n",
              "\n",
              "    [theme=dark] .colab-df-convert {\n",
              "      background-color: #3B4455;\n",
              "      fill: #D2E3FC;\n",
              "    }\n",
              "\n",
              "    [theme=dark] .colab-df-convert:hover {\n",
              "      background-color: #434B5C;\n",
              "      box-shadow: 0px 1px 3px 1px rgba(0, 0, 0, 0.15);\n",
              "      filter: drop-shadow(0px 1px 2px rgba(0, 0, 0, 0.3));\n",
              "      fill: #FFFFFF;\n",
              "    }\n",
              "  </style>\n",
              "\n",
              "      <script>\n",
              "        const buttonEl =\n",
              "          document.querySelector('#df-f2b49c73-749c-489b-a5e9-f18b80d7f2be button.colab-df-convert');\n",
              "        buttonEl.style.display =\n",
              "          google.colab.kernel.accessAllowed ? 'block' : 'none';\n",
              "\n",
              "        async function convertToInteractive(key) {\n",
              "          const element = document.querySelector('#df-f2b49c73-749c-489b-a5e9-f18b80d7f2be');\n",
              "          const dataTable =\n",
              "            await google.colab.kernel.invokeFunction('convertToInteractive',\n",
              "                                                     [key], {});\n",
              "          if (!dataTable) return;\n",
              "\n",
              "          const docLinkHtml = 'Like what you see? Visit the ' +\n",
              "            '<a target=\"_blank\" href=https://colab.research.google.com/notebooks/data_table.ipynb>data table notebook</a>'\n",
              "            + ' to learn more about interactive tables.';\n",
              "          element.innerHTML = '';\n",
              "          dataTable['output_type'] = 'display_data';\n",
              "          await google.colab.output.renderOutput(dataTable, element);\n",
              "          const docLink = document.createElement('div');\n",
              "          docLink.innerHTML = docLinkHtml;\n",
              "          element.appendChild(docLink);\n",
              "        }\n",
              "      </script>\n",
              "    </div>\n",
              "  </div>\n",
              "  "
            ]
          },
          "metadata": {},
          "execution_count": 3
        }
      ],
      "source": [
        "users = pd.read_csv('/content/drive/MyDrive/users_go.csv')\n",
        "users.head()"
      ]
    },
    {
      "cell_type": "code",
      "execution_count": null,
      "id": "8f9dadf4",
      "metadata": {
        "id": "8f9dadf4",
        "outputId": "cceaf1fd-1801-4a18-e703-2a8e1e0a2fb1"
      },
      "outputs": [
        {
          "name": "stdout",
          "output_type": "stream",
          "text": [
            "<class 'pandas.core.frame.DataFrame'>\n",
            "RangeIndex: 1565 entries, 0 to 1564\n",
            "Data columns (total 5 columns):\n",
            " #   Column             Non-Null Count  Dtype \n",
            "---  ------             --------------  ----- \n",
            " 0   user_id            1565 non-null   int64 \n",
            " 1   name               1565 non-null   object\n",
            " 2   age                1565 non-null   int64 \n",
            " 3   city               1565 non-null   object\n",
            " 4   subscription_type  1565 non-null   object\n",
            "dtypes: int64(2), object(3)\n",
            "memory usage: 61.3+ KB\n"
          ]
        }
      ],
      "source": [
        "users.info()"
      ]
    },
    {
      "cell_type": "markdown",
      "id": "e7f4b75c",
      "metadata": {
        "id": "e7f4b75c"
      },
      "source": [
        "Опишем столбцы с данными\n",
        "\n",
        "В таблице 5 колонок:\n",
        "- user_id - идентификатор пользователя (целочисленный типа данных int64)\n",
        "- name - имя пользователя (текстовый или смешанный тип данных object)\n",
        "- age - возраст пользователя (целочисленный типа данных int64)\n",
        "- city - город пользователя (текстовый или смешанный тип данных object)\n",
        "- subscription_type - тип подписки пользователя (текстовый или смешанный тип данных object)\n",
        "\n",
        "Пропусков в данных нет."
      ]
    },
    {
      "cell_type": "markdown",
      "id": "e2ecc9de",
      "metadata": {
        "id": "e2ecc9de"
      },
      "source": [
        "Работа с данными о поездках (Rides)"
      ]
    },
    {
      "cell_type": "code",
      "execution_count": null,
      "id": "a1713529",
      "metadata": {
        "colab": {
          "base_uri": "https://localhost:8080/",
          "height": 206
        },
        "id": "a1713529",
        "outputId": "731da969-6da6-4993-95cf-51f2cfa9f9f7"
      },
      "outputs": [
        {
          "output_type": "execute_result",
          "data": {
            "text/plain": [
              "   user_id     distance   duration        date\n",
              "0        1  4409.919140  25.599769  2021-01-01\n",
              "1        1  2617.592153  15.816871  2021-01-18\n",
              "2        1   754.159807   6.232113  2021-04-20\n",
              "3        1  2694.783254  18.511000  2021-08-11\n",
              "4        1  4028.687306  26.265803  2021-08-28"
            ],
            "text/html": [
              "\n",
              "  <div id=\"df-0753edfe-b994-4a6d-8787-f381ff1495c1\">\n",
              "    <div class=\"colab-df-container\">\n",
              "      <div>\n",
              "<style scoped>\n",
              "    .dataframe tbody tr th:only-of-type {\n",
              "        vertical-align: middle;\n",
              "    }\n",
              "\n",
              "    .dataframe tbody tr th {\n",
              "        vertical-align: top;\n",
              "    }\n",
              "\n",
              "    .dataframe thead th {\n",
              "        text-align: right;\n",
              "    }\n",
              "</style>\n",
              "<table border=\"1\" class=\"dataframe\">\n",
              "  <thead>\n",
              "    <tr style=\"text-align: right;\">\n",
              "      <th></th>\n",
              "      <th>user_id</th>\n",
              "      <th>distance</th>\n",
              "      <th>duration</th>\n",
              "      <th>date</th>\n",
              "    </tr>\n",
              "  </thead>\n",
              "  <tbody>\n",
              "    <tr>\n",
              "      <th>0</th>\n",
              "      <td>1</td>\n",
              "      <td>4409.919140</td>\n",
              "      <td>25.599769</td>\n",
              "      <td>2021-01-01</td>\n",
              "    </tr>\n",
              "    <tr>\n",
              "      <th>1</th>\n",
              "      <td>1</td>\n",
              "      <td>2617.592153</td>\n",
              "      <td>15.816871</td>\n",
              "      <td>2021-01-18</td>\n",
              "    </tr>\n",
              "    <tr>\n",
              "      <th>2</th>\n",
              "      <td>1</td>\n",
              "      <td>754.159807</td>\n",
              "      <td>6.232113</td>\n",
              "      <td>2021-04-20</td>\n",
              "    </tr>\n",
              "    <tr>\n",
              "      <th>3</th>\n",
              "      <td>1</td>\n",
              "      <td>2694.783254</td>\n",
              "      <td>18.511000</td>\n",
              "      <td>2021-08-11</td>\n",
              "    </tr>\n",
              "    <tr>\n",
              "      <th>4</th>\n",
              "      <td>1</td>\n",
              "      <td>4028.687306</td>\n",
              "      <td>26.265803</td>\n",
              "      <td>2021-08-28</td>\n",
              "    </tr>\n",
              "  </tbody>\n",
              "</table>\n",
              "</div>\n",
              "      <button class=\"colab-df-convert\" onclick=\"convertToInteractive('df-0753edfe-b994-4a6d-8787-f381ff1495c1')\"\n",
              "              title=\"Convert this dataframe to an interactive table.\"\n",
              "              style=\"display:none;\">\n",
              "        \n",
              "  <svg xmlns=\"http://www.w3.org/2000/svg\" height=\"24px\"viewBox=\"0 0 24 24\"\n",
              "       width=\"24px\">\n",
              "    <path d=\"M0 0h24v24H0V0z\" fill=\"none\"/>\n",
              "    <path d=\"M18.56 5.44l.94 2.06.94-2.06 2.06-.94-2.06-.94-.94-2.06-.94 2.06-2.06.94zm-11 1L8.5 8.5l.94-2.06 2.06-.94-2.06-.94L8.5 2.5l-.94 2.06-2.06.94zm10 10l.94 2.06.94-2.06 2.06-.94-2.06-.94-.94-2.06-.94 2.06-2.06.94z\"/><path d=\"M17.41 7.96l-1.37-1.37c-.4-.4-.92-.59-1.43-.59-.52 0-1.04.2-1.43.59L10.3 9.45l-7.72 7.72c-.78.78-.78 2.05 0 2.83L4 21.41c.39.39.9.59 1.41.59.51 0 1.02-.2 1.41-.59l7.78-7.78 2.81-2.81c.8-.78.8-2.07 0-2.86zM5.41 20L4 18.59l7.72-7.72 1.47 1.35L5.41 20z\"/>\n",
              "  </svg>\n",
              "      </button>\n",
              "      \n",
              "  <style>\n",
              "    .colab-df-container {\n",
              "      display:flex;\n",
              "      flex-wrap:wrap;\n",
              "      gap: 12px;\n",
              "    }\n",
              "\n",
              "    .colab-df-convert {\n",
              "      background-color: #E8F0FE;\n",
              "      border: none;\n",
              "      border-radius: 50%;\n",
              "      cursor: pointer;\n",
              "      display: none;\n",
              "      fill: #1967D2;\n",
              "      height: 32px;\n",
              "      padding: 0 0 0 0;\n",
              "      width: 32px;\n",
              "    }\n",
              "\n",
              "    .colab-df-convert:hover {\n",
              "      background-color: #E2EBFA;\n",
              "      box-shadow: 0px 1px 2px rgba(60, 64, 67, 0.3), 0px 1px 3px 1px rgba(60, 64, 67, 0.15);\n",
              "      fill: #174EA6;\n",
              "    }\n",
              "\n",
              "    [theme=dark] .colab-df-convert {\n",
              "      background-color: #3B4455;\n",
              "      fill: #D2E3FC;\n",
              "    }\n",
              "\n",
              "    [theme=dark] .colab-df-convert:hover {\n",
              "      background-color: #434B5C;\n",
              "      box-shadow: 0px 1px 3px 1px rgba(0, 0, 0, 0.15);\n",
              "      filter: drop-shadow(0px 1px 2px rgba(0, 0, 0, 0.3));\n",
              "      fill: #FFFFFF;\n",
              "    }\n",
              "  </style>\n",
              "\n",
              "      <script>\n",
              "        const buttonEl =\n",
              "          document.querySelector('#df-0753edfe-b994-4a6d-8787-f381ff1495c1 button.colab-df-convert');\n",
              "        buttonEl.style.display =\n",
              "          google.colab.kernel.accessAllowed ? 'block' : 'none';\n",
              "\n",
              "        async function convertToInteractive(key) {\n",
              "          const element = document.querySelector('#df-0753edfe-b994-4a6d-8787-f381ff1495c1');\n",
              "          const dataTable =\n",
              "            await google.colab.kernel.invokeFunction('convertToInteractive',\n",
              "                                                     [key], {});\n",
              "          if (!dataTable) return;\n",
              "\n",
              "          const docLinkHtml = 'Like what you see? Visit the ' +\n",
              "            '<a target=\"_blank\" href=https://colab.research.google.com/notebooks/data_table.ipynb>data table notebook</a>'\n",
              "            + ' to learn more about interactive tables.';\n",
              "          element.innerHTML = '';\n",
              "          dataTable['output_type'] = 'display_data';\n",
              "          await google.colab.output.renderOutput(dataTable, element);\n",
              "          const docLink = document.createElement('div');\n",
              "          docLink.innerHTML = docLinkHtml;\n",
              "          element.appendChild(docLink);\n",
              "        }\n",
              "      </script>\n",
              "    </div>\n",
              "  </div>\n",
              "  "
            ]
          },
          "metadata": {},
          "execution_count": 5
        }
      ],
      "source": [
        "rides = pd.read_csv('/content/drive/MyDrive/rides_go.csv')\n",
        "rides_length = len(rides)\n",
        "rides.head()"
      ]
    },
    {
      "cell_type": "code",
      "execution_count": null,
      "id": "1a06e95e",
      "metadata": {
        "id": "1a06e95e",
        "outputId": "ce497c80-9491-437a-a59a-ad14aea25233"
      },
      "outputs": [
        {
          "name": "stdout",
          "output_type": "stream",
          "text": [
            "<class 'pandas.core.frame.DataFrame'>\n",
            "RangeIndex: 18068 entries, 0 to 18067\n",
            "Data columns (total 4 columns):\n",
            " #   Column    Non-Null Count  Dtype  \n",
            "---  ------    --------------  -----  \n",
            " 0   user_id   18068 non-null  int64  \n",
            " 1   distance  18068 non-null  float64\n",
            " 2   duration  18068 non-null  float64\n",
            " 3   date      18068 non-null  object \n",
            "dtypes: float64(2), int64(1), object(1)\n",
            "memory usage: 564.8+ KB\n"
          ]
        }
      ],
      "source": [
        "rides.info()"
      ]
    },
    {
      "cell_type": "markdown",
      "id": "6dcab10c",
      "metadata": {
        "id": "6dcab10c"
      },
      "source": [
        "Опишем столбцы с данными\n",
        "\n",
        "В таблице 4 колоноки:\n",
        "- user_id - идентификатор пользователя (целочисленный типа данных int64)\n",
        "- distance - расстояние поездки (текстовый или смешанный тип данных object)\n",
        "- duration - длительность поездки (целочисленный типа данных int64)\n",
        "- date - дата поездки (текстовый или смешанный тип данных object)\n",
        "\n",
        "Пропусков в данных нет."
      ]
    },
    {
      "cell_type": "markdown",
      "id": "1d0fa5ce",
      "metadata": {
        "id": "1d0fa5ce"
      },
      "source": [
        "Работа с данными о подписках (Subscriptions)"
      ]
    },
    {
      "cell_type": "code",
      "execution_count": null,
      "id": "0d6a603f",
      "metadata": {
        "scrolled": true,
        "colab": {
          "base_uri": "https://localhost:8080/",
          "height": 112
        },
        "id": "0d6a603f",
        "outputId": "dd147ccd-da37-4899-ff90-9c76f1d4d983"
      },
      "outputs": [
        {
          "output_type": "execute_result",
          "data": {
            "text/plain": [
              "  subscription_type  minute_price  start_ride_price  subscription_fee\n",
              "0              free             8                50                 0\n",
              "1             ultra             6                 0               199"
            ],
            "text/html": [
              "\n",
              "  <div id=\"df-448e3548-3a5f-4148-8f68-acddf3cbb303\">\n",
              "    <div class=\"colab-df-container\">\n",
              "      <div>\n",
              "<style scoped>\n",
              "    .dataframe tbody tr th:only-of-type {\n",
              "        vertical-align: middle;\n",
              "    }\n",
              "\n",
              "    .dataframe tbody tr th {\n",
              "        vertical-align: top;\n",
              "    }\n",
              "\n",
              "    .dataframe thead th {\n",
              "        text-align: right;\n",
              "    }\n",
              "</style>\n",
              "<table border=\"1\" class=\"dataframe\">\n",
              "  <thead>\n",
              "    <tr style=\"text-align: right;\">\n",
              "      <th></th>\n",
              "      <th>subscription_type</th>\n",
              "      <th>minute_price</th>\n",
              "      <th>start_ride_price</th>\n",
              "      <th>subscription_fee</th>\n",
              "    </tr>\n",
              "  </thead>\n",
              "  <tbody>\n",
              "    <tr>\n",
              "      <th>0</th>\n",
              "      <td>free</td>\n",
              "      <td>8</td>\n",
              "      <td>50</td>\n",
              "      <td>0</td>\n",
              "    </tr>\n",
              "    <tr>\n",
              "      <th>1</th>\n",
              "      <td>ultra</td>\n",
              "      <td>6</td>\n",
              "      <td>0</td>\n",
              "      <td>199</td>\n",
              "    </tr>\n",
              "  </tbody>\n",
              "</table>\n",
              "</div>\n",
              "      <button class=\"colab-df-convert\" onclick=\"convertToInteractive('df-448e3548-3a5f-4148-8f68-acddf3cbb303')\"\n",
              "              title=\"Convert this dataframe to an interactive table.\"\n",
              "              style=\"display:none;\">\n",
              "        \n",
              "  <svg xmlns=\"http://www.w3.org/2000/svg\" height=\"24px\"viewBox=\"0 0 24 24\"\n",
              "       width=\"24px\">\n",
              "    <path d=\"M0 0h24v24H0V0z\" fill=\"none\"/>\n",
              "    <path d=\"M18.56 5.44l.94 2.06.94-2.06 2.06-.94-2.06-.94-.94-2.06-.94 2.06-2.06.94zm-11 1L8.5 8.5l.94-2.06 2.06-.94-2.06-.94L8.5 2.5l-.94 2.06-2.06.94zm10 10l.94 2.06.94-2.06 2.06-.94-2.06-.94-.94-2.06-.94 2.06-2.06.94z\"/><path d=\"M17.41 7.96l-1.37-1.37c-.4-.4-.92-.59-1.43-.59-.52 0-1.04.2-1.43.59L10.3 9.45l-7.72 7.72c-.78.78-.78 2.05 0 2.83L4 21.41c.39.39.9.59 1.41.59.51 0 1.02-.2 1.41-.59l7.78-7.78 2.81-2.81c.8-.78.8-2.07 0-2.86zM5.41 20L4 18.59l7.72-7.72 1.47 1.35L5.41 20z\"/>\n",
              "  </svg>\n",
              "      </button>\n",
              "      \n",
              "  <style>\n",
              "    .colab-df-container {\n",
              "      display:flex;\n",
              "      flex-wrap:wrap;\n",
              "      gap: 12px;\n",
              "    }\n",
              "\n",
              "    .colab-df-convert {\n",
              "      background-color: #E8F0FE;\n",
              "      border: none;\n",
              "      border-radius: 50%;\n",
              "      cursor: pointer;\n",
              "      display: none;\n",
              "      fill: #1967D2;\n",
              "      height: 32px;\n",
              "      padding: 0 0 0 0;\n",
              "      width: 32px;\n",
              "    }\n",
              "\n",
              "    .colab-df-convert:hover {\n",
              "      background-color: #E2EBFA;\n",
              "      box-shadow: 0px 1px 2px rgba(60, 64, 67, 0.3), 0px 1px 3px 1px rgba(60, 64, 67, 0.15);\n",
              "      fill: #174EA6;\n",
              "    }\n",
              "\n",
              "    [theme=dark] .colab-df-convert {\n",
              "      background-color: #3B4455;\n",
              "      fill: #D2E3FC;\n",
              "    }\n",
              "\n",
              "    [theme=dark] .colab-df-convert:hover {\n",
              "      background-color: #434B5C;\n",
              "      box-shadow: 0px 1px 3px 1px rgba(0, 0, 0, 0.15);\n",
              "      filter: drop-shadow(0px 1px 2px rgba(0, 0, 0, 0.3));\n",
              "      fill: #FFFFFF;\n",
              "    }\n",
              "  </style>\n",
              "\n",
              "      <script>\n",
              "        const buttonEl =\n",
              "          document.querySelector('#df-448e3548-3a5f-4148-8f68-acddf3cbb303 button.colab-df-convert');\n",
              "        buttonEl.style.display =\n",
              "          google.colab.kernel.accessAllowed ? 'block' : 'none';\n",
              "\n",
              "        async function convertToInteractive(key) {\n",
              "          const element = document.querySelector('#df-448e3548-3a5f-4148-8f68-acddf3cbb303');\n",
              "          const dataTable =\n",
              "            await google.colab.kernel.invokeFunction('convertToInteractive',\n",
              "                                                     [key], {});\n",
              "          if (!dataTable) return;\n",
              "\n",
              "          const docLinkHtml = 'Like what you see? Visit the ' +\n",
              "            '<a target=\"_blank\" href=https://colab.research.google.com/notebooks/data_table.ipynb>data table notebook</a>'\n",
              "            + ' to learn more about interactive tables.';\n",
              "          element.innerHTML = '';\n",
              "          dataTable['output_type'] = 'display_data';\n",
              "          await google.colab.output.renderOutput(dataTable, element);\n",
              "          const docLink = document.createElement('div');\n",
              "          docLink.innerHTML = docLinkHtml;\n",
              "          element.appendChild(docLink);\n",
              "        }\n",
              "      </script>\n",
              "    </div>\n",
              "  </div>\n",
              "  "
            ]
          },
          "metadata": {},
          "execution_count": 4
        }
      ],
      "source": [
        "subscriptions = pd.read_csv('/content/drive/MyDrive/subscriptions_go.csv')\n",
        "subscriptions.head()"
      ]
    },
    {
      "cell_type": "code",
      "execution_count": null,
      "id": "bb18457c",
      "metadata": {
        "scrolled": false,
        "id": "bb18457c",
        "outputId": "6e703324-c6b7-4bce-f84b-ad149c4ff787"
      },
      "outputs": [
        {
          "name": "stdout",
          "output_type": "stream",
          "text": [
            "<class 'pandas.core.frame.DataFrame'>\n",
            "RangeIndex: 2 entries, 0 to 1\n",
            "Data columns (total 4 columns):\n",
            " #   Column             Non-Null Count  Dtype \n",
            "---  ------             --------------  ----- \n",
            " 0   subscription_type  2 non-null      object\n",
            " 1   minute_price       2 non-null      int64 \n",
            " 2   start_ride_price   2 non-null      int64 \n",
            " 3   subscription_fee   2 non-null      int64 \n",
            "dtypes: int64(3), object(1)\n",
            "memory usage: 192.0+ bytes\n"
          ]
        }
      ],
      "source": [
        "subscriptions.info()"
      ]
    },
    {
      "cell_type": "markdown",
      "id": "56313121",
      "metadata": {
        "id": "56313121"
      },
      "source": [
        "Опишем столбцы с данными\n",
        "\n",
        "В таблице 4 колоноки:\n",
        "- subscription_type - тип подписки (текстовый или смешанный тип данных object)\n",
        "- minute_price - цена за минуту (целочисленный типа данных int64)\n",
        "- start_ride_price - стоимость старта (целочисленный типа данных int64)\n",
        "- subscription_fee - цена подписки (целочисленный типа данных int64)\n",
        "\n",
        "В таблице присутствует 2 строки (по 1 строке для каждого типа подписки), пропусков в данных нет."
      ]
    },
    {
      "cell_type": "markdown",
      "id": "ae6f69e0",
      "metadata": {
        "id": "ae6f69e0"
      },
      "source": [
        "Вывод:\n",
        "    \n",
        "В рамках данного шага нами были загружены данные. Мы также посмотрели несколько первых столбцов и основную информацию о данных, привели их описание."
      ]
    },
    {
      "cell_type": "markdown",
      "id": "e95ebca7",
      "metadata": {
        "id": "e95ebca7"
      },
      "source": [
        "#### Шаг 2. Предобработка данных"
      ]
    },
    {
      "cell_type": "markdown",
      "id": "d462ae0b",
      "metadata": {
        "id": "d462ae0b"
      },
      "source": [
        "Преобразуем данные из столбца date датафрейма rides в тип данных date. Для более приятного восприятия, округлим значения в столбцах длительности и расстояния до 3 знаков после запятой."
      ]
    },
    {
      "cell_type": "code",
      "execution_count": null,
      "id": "af6d202c",
      "metadata": {
        "id": "af6d202c"
      },
      "outputs": [],
      "source": [
        "rides['date'] = pd.to_datetime(rides['date'], format='%Y-%m-%d')\n",
        "rides['month'] = rides['date'].dt.month\n",
        "rides['distance'] = round(rides['distance'], 3)\n",
        "rides['duration'] = round(rides['duration'], 3)"
      ]
    },
    {
      "cell_type": "markdown",
      "id": "e49a1596",
      "metadata": {
        "id": "e49a1596"
      },
      "source": [
        "Проверим наличие дубликатов в столбцах. Удалим их, если они есть."
      ]
    },
    {
      "cell_type": "code",
      "execution_count": null,
      "id": "d3110ce7",
      "metadata": {
        "scrolled": false,
        "id": "d3110ce7",
        "outputId": "40490c72-f920-4302-dac9-c4f03ba8c44d"
      },
      "outputs": [
        {
          "data": {
            "text/plain": [
              "31"
            ]
          },
          "execution_count": 9,
          "metadata": {},
          "output_type": "execute_result"
        }
      ],
      "source": [
        "users.duplicated().sum()"
      ]
    },
    {
      "cell_type": "code",
      "execution_count": null,
      "id": "896a175d",
      "metadata": {
        "id": "896a175d",
        "outputId": "9b8b662b-aed1-4939-eda9-6a7e954c0135"
      },
      "outputs": [
        {
          "data": {
            "text/plain": [
              "0"
            ]
          },
          "execution_count": 10,
          "metadata": {},
          "output_type": "execute_result"
        }
      ],
      "source": [
        "users.drop_duplicates(inplace=True)\n",
        "users.duplicated().sum()"
      ]
    },
    {
      "cell_type": "code",
      "execution_count": null,
      "id": "e5425ec5",
      "metadata": {
        "id": "e5425ec5",
        "outputId": "66a56b16-6f79-4dc3-b7e3-202699cee729"
      },
      "outputs": [
        {
          "data": {
            "text/plain": [
              "0"
            ]
          },
          "execution_count": 11,
          "metadata": {},
          "output_type": "execute_result"
        }
      ],
      "source": [
        "rides.duplicated().sum()"
      ]
    },
    {
      "cell_type": "markdown",
      "id": "33396e76",
      "metadata": {
        "id": "33396e76"
      },
      "source": [
        "Отдельно проверим столбец city датафрейма users на наличие неявных дубликатов."
      ]
    },
    {
      "cell_type": "code",
      "execution_count": null,
      "id": "0391c83b",
      "metadata": {
        "id": "0391c83b",
        "outputId": "d3b41296-2616-46f7-8091-4a5e0c07ab5d"
      },
      "outputs": [
        {
          "data": {
            "text/plain": [
              "array(['Тюмень', 'Омск', 'Москва', 'Ростов-на-Дону', 'Краснодар',\n",
              "       'Пятигорск', 'Екатеринбург', 'Сочи'], dtype=object)"
            ]
          },
          "execution_count": 12,
          "metadata": {},
          "output_type": "execute_result"
        }
      ],
      "source": [
        "users['city'].unique()"
      ]
    },
    {
      "cell_type": "markdown",
      "id": "5469a86c",
      "metadata": {
        "id": "5469a86c"
      },
      "source": [
        "Дубликатов нет. Отсутствие пропусков в значениях было проверено в предыдущим пункте. Также выведем статистику по некоторым датафреймам и проверим наличие в нем выбросов и аномальных значений."
      ]
    },
    {
      "cell_type": "code",
      "execution_count": null,
      "id": "07ad8008",
      "metadata": {
        "scrolled": false,
        "id": "07ad8008",
        "outputId": "262a13a2-3f3b-477f-8527-c3b05cfa89a6"
      },
      "outputs": [
        {
          "data": {
            "text/html": [
              "<div>\n",
              "<style scoped>\n",
              "    .dataframe tbody tr th:only-of-type {\n",
              "        vertical-align: middle;\n",
              "    }\n",
              "\n",
              "    .dataframe tbody tr th {\n",
              "        vertical-align: top;\n",
              "    }\n",
              "\n",
              "    .dataframe thead th {\n",
              "        text-align: right;\n",
              "    }\n",
              "</style>\n",
              "<table border=\"1\" class=\"dataframe\">\n",
              "  <thead>\n",
              "    <tr style=\"text-align: right;\">\n",
              "      <th></th>\n",
              "      <th>user_id</th>\n",
              "      <th>age</th>\n",
              "    </tr>\n",
              "  </thead>\n",
              "  <tbody>\n",
              "    <tr>\n",
              "      <th>count</th>\n",
              "      <td>1534.000000</td>\n",
              "      <td>1534.000000</td>\n",
              "    </tr>\n",
              "    <tr>\n",
              "      <th>mean</th>\n",
              "      <td>767.500000</td>\n",
              "      <td>24.903520</td>\n",
              "    </tr>\n",
              "    <tr>\n",
              "      <th>std</th>\n",
              "      <td>442.971971</td>\n",
              "      <td>4.572367</td>\n",
              "    </tr>\n",
              "    <tr>\n",
              "      <th>min</th>\n",
              "      <td>1.000000</td>\n",
              "      <td>12.000000</td>\n",
              "    </tr>\n",
              "    <tr>\n",
              "      <th>25%</th>\n",
              "      <td>384.250000</td>\n",
              "      <td>22.000000</td>\n",
              "    </tr>\n",
              "    <tr>\n",
              "      <th>50%</th>\n",
              "      <td>767.500000</td>\n",
              "      <td>25.000000</td>\n",
              "    </tr>\n",
              "    <tr>\n",
              "      <th>75%</th>\n",
              "      <td>1150.750000</td>\n",
              "      <td>28.000000</td>\n",
              "    </tr>\n",
              "    <tr>\n",
              "      <th>max</th>\n",
              "      <td>1534.000000</td>\n",
              "      <td>43.000000</td>\n",
              "    </tr>\n",
              "  </tbody>\n",
              "</table>\n",
              "</div>"
            ],
            "text/plain": [
              "           user_id          age\n",
              "count  1534.000000  1534.000000\n",
              "mean    767.500000    24.903520\n",
              "std     442.971971     4.572367\n",
              "min       1.000000    12.000000\n",
              "25%     384.250000    22.000000\n",
              "50%     767.500000    25.000000\n",
              "75%    1150.750000    28.000000\n",
              "max    1534.000000    43.000000"
            ]
          },
          "execution_count": 13,
          "metadata": {},
          "output_type": "execute_result"
        }
      ],
      "source": [
        "users.describe()"
      ]
    },
    {
      "cell_type": "markdown",
      "id": "5a31a5cf",
      "metadata": {
        "id": "5a31a5cf"
      },
      "source": [
        "В данных о пользователях аномальных значений и выбросов нет."
      ]
    },
    {
      "cell_type": "code",
      "execution_count": null,
      "id": "a289dfe3",
      "metadata": {
        "scrolled": false,
        "id": "a289dfe3",
        "outputId": "012e2aaa-1c10-41f4-8181-a62d868fd84e"
      },
      "outputs": [
        {
          "data": {
            "text/html": [
              "<div>\n",
              "<style scoped>\n",
              "    .dataframe tbody tr th:only-of-type {\n",
              "        vertical-align: middle;\n",
              "    }\n",
              "\n",
              "    .dataframe tbody tr th {\n",
              "        vertical-align: top;\n",
              "    }\n",
              "\n",
              "    .dataframe thead th {\n",
              "        text-align: right;\n",
              "    }\n",
              "</style>\n",
              "<table border=\"1\" class=\"dataframe\">\n",
              "  <thead>\n",
              "    <tr style=\"text-align: right;\">\n",
              "      <th></th>\n",
              "      <th>user_id</th>\n",
              "      <th>distance</th>\n",
              "      <th>duration</th>\n",
              "      <th>month</th>\n",
              "    </tr>\n",
              "  </thead>\n",
              "  <tbody>\n",
              "    <tr>\n",
              "      <th>count</th>\n",
              "      <td>18068.000000</td>\n",
              "      <td>18068.000000</td>\n",
              "      <td>18068.000000</td>\n",
              "      <td>18068.000000</td>\n",
              "    </tr>\n",
              "    <tr>\n",
              "      <th>mean</th>\n",
              "      <td>842.869936</td>\n",
              "      <td>3070.659974</td>\n",
              "      <td>17.805010</td>\n",
              "      <td>6.486772</td>\n",
              "    </tr>\n",
              "    <tr>\n",
              "      <th>std</th>\n",
              "      <td>434.734317</td>\n",
              "      <td>1116.831211</td>\n",
              "      <td>6.091052</td>\n",
              "      <td>3.437410</td>\n",
              "    </tr>\n",
              "    <tr>\n",
              "      <th>min</th>\n",
              "      <td>1.000000</td>\n",
              "      <td>0.856000</td>\n",
              "      <td>0.500000</td>\n",
              "      <td>1.000000</td>\n",
              "    </tr>\n",
              "    <tr>\n",
              "      <th>25%</th>\n",
              "      <td>487.000000</td>\n",
              "      <td>2543.226750</td>\n",
              "      <td>13.597750</td>\n",
              "      <td>4.000000</td>\n",
              "    </tr>\n",
              "    <tr>\n",
              "      <th>50%</th>\n",
              "      <td>889.000000</td>\n",
              "      <td>3133.610000</td>\n",
              "      <td>17.678500</td>\n",
              "      <td>6.000000</td>\n",
              "    </tr>\n",
              "    <tr>\n",
              "      <th>75%</th>\n",
              "      <td>1213.250000</td>\n",
              "      <td>3776.222750</td>\n",
              "      <td>21.725250</td>\n",
              "      <td>9.000000</td>\n",
              "    </tr>\n",
              "    <tr>\n",
              "      <th>max</th>\n",
              "      <td>1534.000000</td>\n",
              "      <td>7211.008000</td>\n",
              "      <td>40.824000</td>\n",
              "      <td>12.000000</td>\n",
              "    </tr>\n",
              "  </tbody>\n",
              "</table>\n",
              "</div>"
            ],
            "text/plain": [
              "            user_id      distance      duration         month\n",
              "count  18068.000000  18068.000000  18068.000000  18068.000000\n",
              "mean     842.869936   3070.659974     17.805010      6.486772\n",
              "std      434.734317   1116.831211      6.091052      3.437410\n",
              "min        1.000000      0.856000      0.500000      1.000000\n",
              "25%      487.000000   2543.226750     13.597750      4.000000\n",
              "50%      889.000000   3133.610000     17.678500      6.000000\n",
              "75%     1213.250000   3776.222750     21.725250      9.000000\n",
              "max     1534.000000   7211.008000     40.824000     12.000000"
            ]
          },
          "execution_count": 14,
          "metadata": {},
          "output_type": "execute_result"
        }
      ],
      "source": [
        "rides.describe()"
      ]
    },
    {
      "cell_type": "markdown",
      "id": "ad6e89e0",
      "metadata": {
        "id": "ad6e89e0"
      },
      "source": [
        "В столбце расстояний мы видим минимальное расстояние меньше метра. В стобце длительности минимальное время равно половине минуты. Эти значения кажутся подозрительными. Построим гистограммы распределений этих параметров и оценим, можно ли отбросить аномальные данные.\n",
        "\n",
        "Обработка выбросов в столбце расстояний."
      ]
    },
    {
      "cell_type": "code",
      "execution_count": null,
      "id": "f5bcc1fa",
      "metadata": {
        "scrolled": true,
        "id": "f5bcc1fa",
        "outputId": "aed35a74-e296-44a4-edbe-5d115ff784e8"
      },
      "outputs": [
        {
          "data": {
            "image/png": "[encoded data removed]",
            "text/plain": [
              "<Figure size 1080x288 with 1 Axes>"
            ]
          },
          "metadata": {
            "needs_background": "light"
          },
          "output_type": "display_data"
        }
      ],
      "source": [
        "rides['distance'].hist(bins=200, range=(0,8000), figsize=(15, 4))\n",
        "plt.xlabel('Расстояние поездки, м')\n",
        "plt.ylabel('Частота')\n",
        "plt.title('Гистограмма распределения расстояний поездки');"
      ]
    },
    {
      "cell_type": "markdown",
      "id": "e91212ff",
      "metadata": {
        "id": "e91212ff"
      },
      "source": [
        "Как видно на гистограмме значения большие 6 км достаточно редки и могут быть выброшены. Для определения нижней границы рассмотрим гистограммы для значений от 0 м до 150 м."
      ]
    },
    {
      "cell_type": "code",
      "execution_count": null,
      "id": "a48dda93",
      "metadata": {
        "scrolled": false,
        "id": "a48dda93",
        "outputId": "2d5cf66f-dc1a-4097-eca9-4d7959725fbf"
      },
      "outputs": [
        {
          "data": {
            "image/png": "[encoded data removed]",
            "text/plain": [
              "<Figure size 1080x288 with 1 Axes>"
            ]
          },
          "metadata": {
            "needs_background": "light"
          },
          "output_type": "display_data"
        }
      ],
      "source": [
        "rides['distance'].hist(bins=25, range=(0, 150), figsize=(15, 4))\n",
        "plt.xlabel('Расстояние поездки, м')\n",
        "plt.ylabel('Частота')\n",
        "plt.title('Гистограмма распределения расстояний поездки')\n",
        "\n",
        "abnormal_distance = rides.loc[(rides['distance'] < 100) | (rides['distance'] > 6000)].index\n",
        "rides.drop(index=abnormal_distance, axis=0, inplace=True)"
      ]
    },
    {
      "cell_type": "markdown",
      "id": "a668fa83",
      "metadata": {
        "id": "a668fa83"
      },
      "source": [
        "Предполагаем, что брать самокат менее, чем на 100 м нецелесообразно, так как затраты по времени на аренду и поездку будут больше, чем время на дойти пешком, поэтому установим это значение в качестве нижней границы."
      ]
    },
    {
      "cell_type": "code",
      "execution_count": null,
      "id": "6c4caf63",
      "metadata": {
        "id": "6c4caf63",
        "outputId": "f1bb973d-1b3d-4fdb-f32b-72f265eaebf1"
      },
      "outputs": [
        {
          "data": {
            "text/plain": [
              "0.69"
            ]
          },
          "execution_count": 17,
          "metadata": {},
          "output_type": "execute_result"
        }
      ],
      "source": [
        "loss_ratio_distance = (len(abnormal_distance) / rides_length) * 100\n",
        "round(loss_ratio_distance, 2)"
      ]
    },
    {
      "cell_type": "markdown",
      "id": "1f4505c8",
      "metadata": {
        "id": "1f4505c8"
      },
      "source": [
        "Выше рассчитали процент выкидываемых данных от общего количества, получили 0.69 < 1%, значит объем выкидываемых данных нормальный."
      ]
    },
    {
      "cell_type": "markdown",
      "id": "30e24fbc",
      "metadata": {
        "id": "30e24fbc"
      },
      "source": [
        "Обработка выбросов в столбце длительности."
      ]
    },
    {
      "cell_type": "code",
      "execution_count": null,
      "id": "3d2fbda8",
      "metadata": {
        "scrolled": false,
        "id": "3d2fbda8",
        "outputId": "7523639a-1da6-454a-8347-000f9121b9fb"
      },
      "outputs": [
        {
          "data": {
            "image/png": "[encoded data removed]",
            "text/plain": [
              "<Figure size 1080x288 with 1 Axes>"
            ]
          },
          "metadata": {
            "needs_background": "light"
          },
          "output_type": "display_data"
        }
      ],
      "source": [
        "rides['duration'].hist(bins=100, range=(0,50), figsize=(15,4))\n",
        "plt.xlabel('Длительность поездки, мин')\n",
        "plt.ylabel('Частота')\n",
        "plt.title('Гистограмма распределения длительностей поездок');"
      ]
    },
    {
      "cell_type": "markdown",
      "id": "80b77c0c",
      "metadata": {
        "id": "80b77c0c"
      },
      "source": [
        "Наблюдаемая гистограмма подходит под нормальное распределение, однако мы видим выбросы в районе 0 - 3 минут. Также в силу малого количества значений после 40 минут удалим их."
      ]
    },
    {
      "cell_type": "code",
      "execution_count": null,
      "id": "ab6b0075",
      "metadata": {
        "id": "ab6b0075",
        "outputId": "3b378a75-d60e-44fe-df50-fa15c78d581e"
      },
      "outputs": [
        {
          "data": {
            "text/plain": [
              "0.61"
            ]
          },
          "execution_count": 19,
          "metadata": {},
          "output_type": "execute_result"
        }
      ],
      "source": [
        "abnormal_duration = rides.loc[(rides['duration'] < 3) | (rides['duration'] > 40)].index\n",
        "rides.drop(index=abnormal_duration, axis=0, inplace=True)\n",
        "loss_ratio_duration = (len(abnormal_duration) / rides_length) * 100\n",
        "round(loss_ratio_duration, 2)"
      ]
    },
    {
      "cell_type": "markdown",
      "id": "242030b9",
      "metadata": {
        "id": "242030b9"
      },
      "source": [
        "Полученный процент удаляемых данных равен 0.61 < 1 %, значит объем данных для удаления подобран правильно.\n",
        "\n",
        "Проверим, что общий объем удаляемых данных по всем столбцам меньше 5 %, чтобы убедиться в правомерности удалений."
      ]
    },
    {
      "cell_type": "code",
      "execution_count": null,
      "id": "4942562b",
      "metadata": {
        "id": "4942562b",
        "outputId": "15c6d2e7-b7b9-4cb2-e523-486725a949fb"
      },
      "outputs": [
        {
          "data": {
            "text/plain": [
              "1.3"
            ]
          },
          "execution_count": 20,
          "metadata": {},
          "output_type": "execute_result"
        }
      ],
      "source": [
        "round(((len(abnormal_distance) + len(abnormal_duration))/ rides_length) * 100, 2)"
      ]
    },
    {
      "cell_type": "markdown",
      "id": "f1e1a0ef",
      "metadata": {
        "id": "f1e1a0ef"
      },
      "source": [
        "Вывод:\n",
        "    \n",
        "   В рамках данного шага мы привели обработали данные так, чтобы с ними было удобно работать и полученная выборка верно отражала информацию о генеральной совокупности. Для этого мы изменили некоторые типы данных, округлили значения, обработали дубликаты и аномальные значения."
      ]
    },
    {
      "cell_type": "markdown",
      "id": "212593c7",
      "metadata": {
        "id": "212593c7"
      },
      "source": [
        "#### Шаг 3. Исследовательский анализ данных"
      ]
    },
    {
      "cell_type": "markdown",
      "id": "09e25811",
      "metadata": {
        "id": "09e25811"
      },
      "source": [
        "Проанализируем данные. Посмотрим на частоту встречаемости городов, соотношение пользователей с подпиской и без, возраст пользователей, расстояние за 1 поездку пользователей и продолжительность поездок."
      ]
    },
    {
      "cell_type": "code",
      "execution_count": null,
      "id": "e3a4274c",
      "metadata": {
        "scrolled": true,
        "id": "e3a4274c",
        "outputId": "92939ef1-7c49-455a-a305-67cc3fd11647"
      },
      "outputs": [
        {
          "data": {
            "image/png": "[encoded data removed]",
            "text/plain": [
              "<Figure size 1368x432 with 1 Axes>"
            ]
          },
          "metadata": {
            "needs_background": "light"
          },
          "output_type": "display_data"
        }
      ],
      "source": [
        "(users\n",
        " .groupby(by='city')['user_id']\n",
        " .count()\n",
        " .sort_values()\n",
        " .plot(kind = 'barh', figsize = (19,6), grid=True, title='Частота встречаемости городов по датафрейму пользователей')\n",
        ");"
      ]
    },
    {
      "cell_type": "markdown",
      "id": "4a325366",
      "metadata": {
        "id": "4a325366"
      },
      "source": [
        "На построенной диаграмме мы видим, что в датафрейме присутствуют данные по 8 городам, причем наименьшее количество данных имеется о пользователях из Москвы. Наибольшее количество данных отражает информацию о пользователях из Пятигорска."
      ]
    },
    {
      "cell_type": "code",
      "execution_count": null,
      "id": "bd6c89b3",
      "metadata": {
        "scrolled": false,
        "id": "bd6c89b3",
        "outputId": "7acb4e73-b339-48d0-f32b-f76ceef74edd"
      },
      "outputs": [
        {
          "data": {
            "text/html": [
              "<div>\n",
              "<style scoped>\n",
              "    .dataframe tbody tr th:only-of-type {\n",
              "        vertical-align: middle;\n",
              "    }\n",
              "\n",
              "    .dataframe tbody tr th {\n",
              "        vertical-align: top;\n",
              "    }\n",
              "\n",
              "    .dataframe thead th {\n",
              "        text-align: right;\n",
              "    }\n",
              "</style>\n",
              "<table border=\"1\" class=\"dataframe\">\n",
              "  <thead>\n",
              "    <tr style=\"text-align: right;\">\n",
              "      <th></th>\n",
              "      <th>user_id</th>\n",
              "    </tr>\n",
              "    <tr>\n",
              "      <th>subscription_type</th>\n",
              "      <th></th>\n",
              "    </tr>\n",
              "  </thead>\n",
              "  <tbody>\n",
              "    <tr>\n",
              "      <th>free</th>\n",
              "      <td>835</td>\n",
              "    </tr>\n",
              "    <tr>\n",
              "      <th>ultra</th>\n",
              "      <td>699</td>\n",
              "    </tr>\n",
              "  </tbody>\n",
              "</table>\n",
              "</div>"
            ],
            "text/plain": [
              "                   user_id\n",
              "subscription_type         \n",
              "free                   835\n",
              "ultra                  699"
            ]
          },
          "execution_count": 22,
          "metadata": {},
          "output_type": "execute_result"
        },
        {
          "data": {
            "image/png": "[encoded data removed]",
            "text/plain": [
              "<Figure size 216x216 with 1 Axes>"
            ]
          },
          "metadata": {},
          "output_type": "display_data"
        }
      ],
      "source": [
        "(users.groupby(by='subscription_type')['user_id']\n",
        "    .count()\n",
        "    .sort_values(ascending=False)\n",
        "    .plot(kind = 'pie', figsize = (3,3),  autopct='%1.2f%%', title='Соотношение пользователей с подпиской и без')\n",
        ")\n",
        "\n",
        "users.pivot_table(index='subscription_type', values='user_id', aggfunc='count')"
      ]
    },
    {
      "cell_type": "markdown",
      "id": "c5adcbaf",
      "metadata": {
        "id": "c5adcbaf"
      },
      "source": [
        "Для анализа соотношения количества пользователей с подпиской и без представим информацию в виде круговой диаграммы. На ней мы видим, что больше пользователей пользуется самокатами без подписки, однако их количество не сильно превышает количество пользователей с подпиской (54.06 и 45.94 % соответственно). Для более полного отражения соотношений мы выведи количественную информацию о пользователях в отдельной таблице."
      ]
    },
    {
      "cell_type": "markdown",
      "id": "94107d2e",
      "metadata": {
        "id": "94107d2e"
      },
      "source": [
        "Для оценки распределения возраста пользователей выведем гистограмму распределения."
      ]
    },
    {
      "cell_type": "code",
      "execution_count": null,
      "id": "c26dc587",
      "metadata": {
        "scrolled": false,
        "id": "c26dc587",
        "outputId": "29e97b88-a556-428a-def5-48e83744c7b6"
      },
      "outputs": [
        {
          "data": {
            "image/png": "[encoded data removed]",
            "text/plain": [
              "<Figure size 1080x288 with 1 Axes>"
            ]
          },
          "metadata": {
            "needs_background": "light"
          },
          "output_type": "display_data"
        }
      ],
      "source": [
        "users['age'].hist(bins=len(users['age'].unique()), range=(10,50), figsize=(15,4))\n",
        "plt.xlabel('Возраст')\n",
        "plt.ylabel('Частота')\n",
        "plt.title('Гистограмма распределения возрастов пользователей');"
      ]
    },
    {
      "cell_type": "markdown",
      "id": "0c136bcc",
      "metadata": {
        "id": "0c136bcc"
      },
      "source": [
        "Наблюдаем, что пользователи с возрастом 25 лет чаще других пользуются самокатами. В некотором приближении, полученное распределение можно считать нормальным. Напишем функцию категоризации для значений, по которой оценим доли возрастных групп:\n",
        "- Ребенок (0 - 17 лет)\n",
        "- Взрослый до 30 лет (18 - 29 лет)\n",
        "- Взрослый до 43 лет (30 - 43 года)"
      ]
    },
    {
      "cell_type": "code",
      "execution_count": null,
      "id": "3762d6a0",
      "metadata": {
        "scrolled": true,
        "id": "3762d6a0",
        "outputId": "bea43630-02b5-4e42-fa65-90782e9a1dca"
      },
      "outputs": [
        {
          "data": {
            "image/png": "[encoded data removed]",
            "text/plain": [
              "<Figure size 216x216 with 1 Axes>"
            ]
          },
          "metadata": {},
          "output_type": "display_data"
        }
      ],
      "source": [
        "def age_cat(line):\n",
        "    age_cat = []\n",
        "    if line['age'] < 18:\n",
        "        return 'Ребенок'\n",
        "    elif line['age'] < 30:\n",
        "        return 'Взрослый до 30 лет'\n",
        "    else:\n",
        "        return 'Взрослый до 43 лет'\n",
        "\n",
        "users['age_category'] = users.apply(age_cat, axis=1)\n",
        "(users\n",
        " .groupby(by='age_category')['user_id']\n",
        " .count()\n",
        " .sort_values(ascending=False)\n",
        " .plot(kind = 'pie', figsize = (3,3),  autopct='%1.2f%%', title='Доля пользователей по возрастным категориям')\n",
        ");"
      ]
    },
    {
      "cell_type": "markdown",
      "id": "522ee920",
      "metadata": {
        "id": "522ee920"
      },
      "source": [
        "Согласно нашей классификации видим, что 79.23 % пользователей - молодые люди в возрасте от 18 до 29 лет. Действительно, на практике, прогуливаясь по улицам города мы можем наблюдать, что в основном использует самокаты именно эта категория. Это можно объяснить постоянным мониторингом популярных технологий, данной категории проще разобраться с процессом регистрации и аренды с помощью мобильных устройств, следование трендам."
      ]
    },
    {
      "cell_type": "markdown",
      "id": "18607f3c",
      "metadata": {
        "id": "18607f3c"
      },
      "source": [
        "Для оценки расстояния, которое проезжает каждый пользователь за одну поездку выведем гистограммы распределения значений из столбца distance."
      ]
    },
    {
      "cell_type": "code",
      "execution_count": null,
      "id": "9fd3aaaa",
      "metadata": {
        "scrolled": true,
        "id": "9fd3aaaa",
        "outputId": "d487bf3f-1770-415e-8f8c-4e4ee5b494a5"
      },
      "outputs": [
        {
          "data": {
            "image/png": "[encoded data removed]",
            "text/plain": [
              "<Figure size 1080x288 with 1 Axes>"
            ]
          },
          "metadata": {
            "needs_background": "light"
          },
          "output_type": "display_data"
        }
      ],
      "source": [
        "rides['distance'].hist(bins=150, figsize=(15,4))\n",
        "plt.xlabel('Расстояние за одну поездку, м')\n",
        "plt.ylabel('Частота')\n",
        "plt.title('Гистограмма распределения расстояний за одну поездку');"
      ]
    },
    {
      "cell_type": "markdown",
      "id": "f9716763",
      "metadata": {
        "id": "f9716763"
      },
      "source": [
        "На гистограмме мы видим 2 локальных максимума: один в области 700 м, другой в области 3000 м, причем оснавная масса значений локализирована в диапазоне от 2000 до 5000 м. Небольшой максимум в начале можно объяснить тем, что некоторые пользователи используют самокаты не только для развлечения и катания, но и для рабочих поездок на небольшие расстояния (например доехать от дома до метро или до работы от метро). На дальние расстояния самокаты в основном берут для катания."
      ]
    },
    {
      "cell_type": "markdown",
      "id": "3f2856b9",
      "metadata": {
        "id": "3f2856b9"
      },
      "source": [
        "Построим также гистограмму распределения продолжительноти поездок."
      ]
    },
    {
      "cell_type": "code",
      "execution_count": null,
      "id": "cc0677be",
      "metadata": {
        "id": "cc0677be",
        "outputId": "260c53fb-9e40-4d88-9c6b-33ef7c6e5381"
      },
      "outputs": [
        {
          "data": {
            "image/png": "[encoded data removed]",
            "text/plain": [
              "<Figure size 1080x288 with 1 Axes>"
            ]
          },
          "metadata": {
            "needs_background": "light"
          },
          "output_type": "display_data"
        }
      ],
      "source": [
        "rides['duration'].hist(bins=100, range=(0,40), figsize=(15,4))\n",
        "plt.xlabel('Длительность поездки, мин')\n",
        "plt.ylabel('Частота')\n",
        "plt.title('Гистограмма распределения длительностей поездок');"
      ]
    },
    {
      "cell_type": "markdown",
      "id": "c4de2a3a",
      "metadata": {
        "id": "c4de2a3a"
      },
      "source": [
        "В некотором приближении можно считать полученное распределение нормальным. Среднее время, на которое арендуют самокаты составляет порядка 17 - 20 минут, однако наблюдаютс и короткосрочные аренды до 5-10 минут (вероятнее всего эти поездки в основном являются рабочими). Максимальная длительность аренды не превыщает 40 минут."
      ]
    },
    {
      "cell_type": "markdown",
      "id": "f29dc423",
      "metadata": {
        "id": "f29dc423"
      },
      "source": [
        "Вывод:\n",
        "\n",
        "На данном этапе проекта нами были проанализированы основные данные о пользователях и их поездках. Так, мы узнали, что количество пользователей с подпиской состовляет 45.5% от общего числа пользователей, почти 80% ппользователей - это взрослые от 18 до 30 лет, 15.4% - взрослые до 43 лет и лишь 5.5 процентов составляют дети. По гистограмме распределения расстояний мы предположили, что самокаты используются не только с целью развлечения и отдыха, но и как транспортное средство. Также мы выяснили, что в среднем самокаты арендуют на время 17-20 минут и не более 40 минут."
      ]
    },
    {
      "cell_type": "markdown",
      "id": "4ef51331",
      "metadata": {
        "id": "4ef51331"
      },
      "source": [
        "#### Шаг 4. Объединение данных"
      ]
    },
    {
      "cell_type": "markdown",
      "id": "2f49bd81",
      "metadata": {
        "id": "2f49bd81"
      },
      "source": [
        "Объединим данные в 1 датафрейм. В результате объединения мы должны получить 1 датафрейм с длиной равной размеру самого большого датафрейма (rides)."
      ]
    },
    {
      "cell_type": "code",
      "execution_count": null,
      "id": "2829e5bd",
      "metadata": {
        "id": "2829e5bd",
        "outputId": "298ec234-fd82-4ff0-a370-c6089e35793a"
      },
      "outputs": [
        {
          "name": "stdout",
          "output_type": "stream",
          "text": [
            "<class 'pandas.core.frame.DataFrame'>\n",
            "Int64Index: 17833 entries, 0 to 17832\n",
            "Data columns (total 13 columns):\n",
            " #   Column             Non-Null Count  Dtype         \n",
            "---  ------             --------------  -----         \n",
            " 0   user_id            17833 non-null  int64         \n",
            " 1   name               17833 non-null  object        \n",
            " 2   age                17833 non-null  int64         \n",
            " 3   city               17833 non-null  object        \n",
            " 4   subscription_type  17833 non-null  object        \n",
            " 5   age_category       17833 non-null  object        \n",
            " 6   distance           17833 non-null  float64       \n",
            " 7   duration           17833 non-null  float64       \n",
            " 8   date               17833 non-null  datetime64[ns]\n",
            " 9   month              17833 non-null  int64         \n",
            " 10  minute_price       17833 non-null  int64         \n",
            " 11  start_ride_price   17833 non-null  int64         \n",
            " 12  subscription_fee   17833 non-null  int64         \n",
            "dtypes: datetime64[ns](1), float64(2), int64(6), object(4)\n",
            "memory usage: 1.9+ MB\n"
          ]
        }
      ],
      "source": [
        "data = users.merge(rides, on='user_id', how='outer')\n",
        "data = data.merge(subscriptions, how='outer')\n",
        "data.info()"
      ]
    },
    {
      "cell_type": "markdown",
      "id": "156d7d07",
      "metadata": {
        "id": "156d7d07"
      },
      "source": [
        "Разделим пользователей с подпиской и без на 2 датафрейма."
      ]
    },
    {
      "cell_type": "code",
      "execution_count": null,
      "id": "d70ec2b7",
      "metadata": {
        "id": "d70ec2b7"
      },
      "outputs": [],
      "source": [
        "data_free = data.loc[data['subscription_type'] == 'free']\n",
        "data_ultra = data.loc[data['subscription_type'] == 'ultra']"
      ]
    },
    {
      "cell_type": "markdown",
      "id": "bbc038a9",
      "metadata": {
        "id": "bbc038a9"
      },
      "source": [
        "Сравним информацию расстоянии и длительности поездок для 2 полученных категорий пользователей."
      ]
    },
    {
      "cell_type": "code",
      "execution_count": null,
      "id": "97364db7",
      "metadata": {
        "scrolled": false,
        "id": "97364db7",
        "outputId": "7b7fb4c6-f8d3-46cd-b041-c63e27042f20"
      },
      "outputs": [
        {
          "data": {
            "image/png": "[encoded data removed]",
            "text/plain": [
              "<Figure size 1080x288 with 1 Axes>"
            ]
          },
          "metadata": {
            "needs_background": "light"
          },
          "output_type": "display_data"
        }
      ],
      "source": [
        "data_free['distance'].hist(bins=100, range=(100,6500), figsize=(15,4), alpha=0.7, label='Без подписки')\n",
        "data_ultra['distance'].hist(bins=100, range=(100,6500), figsize=(15,4), alpha=0.7, label='С подпиской')\n",
        "plt.xlabel('Расстояние, м')\n",
        "plt.ylabel('Частота')\n",
        "plt.title('Гистограмма распределения расстояний поездок пользователей')\n",
        "plt.legend();"
      ]
    },
    {
      "cell_type": "code",
      "execution_count": null,
      "id": "6c783067",
      "metadata": {
        "scrolled": false,
        "id": "6c783067",
        "outputId": "93ea911f-9ccf-4551-bc55-8997fda64bbb"
      },
      "outputs": [
        {
          "data": {
            "image/png": "[encoded data removed]",
            "text/plain": [
              "<Figure size 1080x288 with 1 Axes>"
            ]
          },
          "metadata": {
            "needs_background": "light"
          },
          "output_type": "display_data"
        }
      ],
      "source": [
        "data_free['duration'].hist(bins=100, range=(0,50), figsize=(15,4), alpha=0.7, label='Без подписки')\n",
        "data_ultra['duration'].hist(bins=100, range=(0,50), figsize=(15,4), alpha=0.7, label='С подпиской')\n",
        "plt.xlabel('Длительность, мин')\n",
        "plt.ylabel('Частота')\n",
        "plt.title('Гистограмма распределения длительностей поездок пользователей')\n",
        "plt.legend();"
      ]
    },
    {
      "cell_type": "markdown",
      "id": "b74fc55d",
      "metadata": {
        "id": "b74fc55d"
      },
      "source": [
        "По полученным графикам можно сделать вывод, что самокаты больше арендуют пользователи без подписки, однако на расстояние 2800 м - 3000 м чаще ездят пользователи с подпиской. Для пользователей без подписки в этом диапазоне наблюдается небольшой провал. Также для обеих категорий наблюдаем провал в дальности поездки после первого локального макисмума в районе 1300 м для пользователей без подписки и 1900 м для пользователей с подпиской. Это может быть связано с тем, что такая дальность слишком большая для вынужденных и рабочих поездок, и слишком мала для прогулочных поездок. Сдвиг пользователей с подпиской относительно пользователей без подписки можно объяснить тем, что люди, покупающие подписку скорее всего находят самокаты удобным видом транспорта и возможно даже планируют свои маршруты с учетом применения самокатов, отсюда можно предположить, что дальность передвижения и длительность для них в целом выше.\n",
        "\n",
        "Рассматривая гистограммы распределения длительностей поездок мы также можем наблюдать очень небольшой сдвиг распределения пользователей с подпиской относительно пользователей без. Это можно определить по наиболее частому значению, а также по \"хвостам\" графика."
      ]
    },
    {
      "cell_type": "markdown",
      "id": "d97decd1",
      "metadata": {
        "id": "d97decd1"
      },
      "source": [
        "Вывод:\n",
        "\n",
        "По результатам анализа данных на этом этапе можно сделать вывод, что характер распределений обеих групп (пользователи с и без подписки) схож и отличается только численными значениями."
      ]
    },
    {
      "cell_type": "markdown",
      "id": "402d620f",
      "metadata": {
        "id": "402d620f"
      },
      "source": [
        "#### Шаг 5. Подсчёт выручки"
      ]
    },
    {
      "cell_type": "markdown",
      "id": "f91b42ac",
      "metadata": {
        "id": "f91b42ac"
      },
      "source": [
        "Рассчитаем средние параметры по каждому пользователю за каждый месяц."
      ]
    },
    {
      "cell_type": "code",
      "execution_count": null,
      "id": "7e43f82f",
      "metadata": {
        "id": "7e43f82f",
        "outputId": "6db3df60-5a5e-43c2-f0f4-db9218ee69be"
      },
      "outputs": [
        {
          "data": {
            "text/html": [
              "<div>\n",
              "<style scoped>\n",
              "    .dataframe tbody tr th:only-of-type {\n",
              "        vertical-align: middle;\n",
              "    }\n",
              "\n",
              "    .dataframe tbody tr th {\n",
              "        vertical-align: top;\n",
              "    }\n",
              "\n",
              "    .dataframe thead th {\n",
              "        text-align: right;\n",
              "    }\n",
              "</style>\n",
              "<table border=\"1\" class=\"dataframe\">\n",
              "  <thead>\n",
              "    <tr style=\"text-align: right;\">\n",
              "      <th></th>\n",
              "      <th>user_id</th>\n",
              "      <th>month</th>\n",
              "      <th>sum_distance</th>\n",
              "      <th>trip_numb</th>\n",
              "      <th>sum_duration</th>\n",
              "      <th>minute_price</th>\n",
              "      <th>start_ride_price</th>\n",
              "      <th>subscription_fee</th>\n",
              "    </tr>\n",
              "  </thead>\n",
              "  <tbody>\n",
              "    <tr>\n",
              "      <th>0</th>\n",
              "      <td>1</td>\n",
              "      <td>1</td>\n",
              "      <td>7027.511</td>\n",
              "      <td>2</td>\n",
              "      <td>41.417</td>\n",
              "      <td>6</td>\n",
              "      <td>0</td>\n",
              "      <td>199</td>\n",
              "    </tr>\n",
              "    <tr>\n",
              "      <th>1</th>\n",
              "      <td>1</td>\n",
              "      <td>4</td>\n",
              "      <td>754.160</td>\n",
              "      <td>1</td>\n",
              "      <td>6.232</td>\n",
              "      <td>6</td>\n",
              "      <td>0</td>\n",
              "      <td>199</td>\n",
              "    </tr>\n",
              "    <tr>\n",
              "      <th>2</th>\n",
              "      <td>1</td>\n",
              "      <td>8</td>\n",
              "      <td>6723.470</td>\n",
              "      <td>2</td>\n",
              "      <td>44.777</td>\n",
              "      <td>6</td>\n",
              "      <td>0</td>\n",
              "      <td>199</td>\n",
              "    </tr>\n",
              "    <tr>\n",
              "      <th>3</th>\n",
              "      <td>1</td>\n",
              "      <td>10</td>\n",
              "      <td>5809.911</td>\n",
              "      <td>2</td>\n",
              "      <td>31.578</td>\n",
              "      <td>6</td>\n",
              "      <td>0</td>\n",
              "      <td>199</td>\n",
              "    </tr>\n",
              "    <tr>\n",
              "      <th>4</th>\n",
              "      <td>1</td>\n",
              "      <td>11</td>\n",
              "      <td>7003.500</td>\n",
              "      <td>3</td>\n",
              "      <td>53.397</td>\n",
              "      <td>6</td>\n",
              "      <td>0</td>\n",
              "      <td>199</td>\n",
              "    </tr>\n",
              "  </tbody>\n",
              "</table>\n",
              "</div>"
            ],
            "text/plain": [
              "   user_id  month  sum_distance  trip_numb  sum_duration  minute_price  \\\n",
              "0        1      1      7027.511          2        41.417             6   \n",
              "1        1      4       754.160          1         6.232             6   \n",
              "2        1      8      6723.470          2        44.777             6   \n",
              "3        1     10      5809.911          2        31.578             6   \n",
              "4        1     11      7003.500          3        53.397             6   \n",
              "\n",
              "   start_ride_price  subscription_fee  \n",
              "0                 0               199  \n",
              "1                 0               199  \n",
              "2                 0               199  \n",
              "3                 0               199  \n",
              "4                 0               199  "
            ]
          },
          "execution_count": 31,
          "metadata": {},
          "output_type": "execute_result"
        }
      ],
      "source": [
        "agg_dict = {'distance':['sum', 'count'],\n",
        "            'duration':['sum'],\n",
        "            'minute_price':'mean',\n",
        "            'start_ride_price':'mean',\n",
        "            'subscription_fee':'mean'}\n",
        "agg_data = data.groupby(by=['user_id', 'month']).agg(agg_dict).reset_index()\n",
        "columns = ['user_id', 'month', 'sum_distance', 'trip_numb', 'sum_duration'\n",
        "           , 'minute_price', 'start_ride_price', 'subscription_fee']\n",
        "agg_data.columns = columns\n",
        "agg_data.head()"
      ]
    },
    {
      "cell_type": "markdown",
      "id": "c8075ae3",
      "metadata": {
        "id": "c8075ae3"
      },
      "source": [
        "Напишем функцию, рассчитывающую месячную прибыль от каждого пользователя и применим ее к каждой строке нашего датафрейма."
      ]
    },
    {
      "cell_type": "code",
      "execution_count": null,
      "id": "5c81cf44",
      "metadata": {
        "scrolled": false,
        "id": "5c81cf44",
        "outputId": "1308725f-8df2-4005-9d85-ce174762c3ca"
      },
      "outputs": [
        {
          "data": {
            "text/html": [
              "<div>\n",
              "<style scoped>\n",
              "    .dataframe tbody tr th:only-of-type {\n",
              "        vertical-align: middle;\n",
              "    }\n",
              "\n",
              "    .dataframe tbody tr th {\n",
              "        vertical-align: top;\n",
              "    }\n",
              "\n",
              "    .dataframe thead th {\n",
              "        text-align: right;\n",
              "    }\n",
              "</style>\n",
              "<table border=\"1\" class=\"dataframe\">\n",
              "  <thead>\n",
              "    <tr style=\"text-align: right;\">\n",
              "      <th></th>\n",
              "      <th>user_id</th>\n",
              "      <th>month</th>\n",
              "      <th>sum_distance</th>\n",
              "      <th>trip_numb</th>\n",
              "      <th>sum_duration</th>\n",
              "      <th>minute_price</th>\n",
              "      <th>start_ride_price</th>\n",
              "      <th>subscription_fee</th>\n",
              "      <th>month_price</th>\n",
              "    </tr>\n",
              "  </thead>\n",
              "  <tbody>\n",
              "    <tr>\n",
              "      <th>0</th>\n",
              "      <td>1</td>\n",
              "      <td>1</td>\n",
              "      <td>7027.511</td>\n",
              "      <td>2</td>\n",
              "      <td>41.417</td>\n",
              "      <td>6</td>\n",
              "      <td>0</td>\n",
              "      <td>199</td>\n",
              "      <td>445.0</td>\n",
              "    </tr>\n",
              "    <tr>\n",
              "      <th>1</th>\n",
              "      <td>1</td>\n",
              "      <td>4</td>\n",
              "      <td>754.160</td>\n",
              "      <td>1</td>\n",
              "      <td>6.232</td>\n",
              "      <td>6</td>\n",
              "      <td>0</td>\n",
              "      <td>199</td>\n",
              "      <td>235.0</td>\n",
              "    </tr>\n",
              "    <tr>\n",
              "      <th>2</th>\n",
              "      <td>1</td>\n",
              "      <td>8</td>\n",
              "      <td>6723.470</td>\n",
              "      <td>2</td>\n",
              "      <td>44.777</td>\n",
              "      <td>6</td>\n",
              "      <td>0</td>\n",
              "      <td>199</td>\n",
              "      <td>469.0</td>\n",
              "    </tr>\n",
              "    <tr>\n",
              "      <th>3</th>\n",
              "      <td>1</td>\n",
              "      <td>10</td>\n",
              "      <td>5809.911</td>\n",
              "      <td>2</td>\n",
              "      <td>31.578</td>\n",
              "      <td>6</td>\n",
              "      <td>0</td>\n",
              "      <td>199</td>\n",
              "      <td>391.0</td>\n",
              "    </tr>\n",
              "    <tr>\n",
              "      <th>4</th>\n",
              "      <td>1</td>\n",
              "      <td>11</td>\n",
              "      <td>7003.500</td>\n",
              "      <td>3</td>\n",
              "      <td>53.397</td>\n",
              "      <td>6</td>\n",
              "      <td>0</td>\n",
              "      <td>199</td>\n",
              "      <td>517.0</td>\n",
              "    </tr>\n",
              "  </tbody>\n",
              "</table>\n",
              "</div>"
            ],
            "text/plain": [
              "   user_id  month  sum_distance  trip_numb  sum_duration  minute_price  \\\n",
              "0        1      1      7027.511          2        41.417             6   \n",
              "1        1      4       754.160          1         6.232             6   \n",
              "2        1      8      6723.470          2        44.777             6   \n",
              "3        1     10      5809.911          2        31.578             6   \n",
              "4        1     11      7003.500          3        53.397             6   \n",
              "\n",
              "   start_ride_price  subscription_fee  month_price  \n",
              "0                 0               199        445.0  \n",
              "1                 0               199        235.0  \n",
              "2                 0               199        469.0  \n",
              "3                 0               199        391.0  \n",
              "4                 0               199        517.0  "
            ]
          },
          "execution_count": 32,
          "metadata": {},
          "output_type": "execute_result"
        }
      ],
      "source": [
        "def payment(line):\n",
        "    res = line['subscription_fee'] + (line['trip_numb'] * line['start_ride_price']) + (line['minute_price'] * round(line['sum_duration'], 0))\n",
        "    return res\n",
        "\n",
        "agg_data['month_price'] = agg_data.apply(payment, axis=1)\n",
        "agg_data.head()"
      ]
    },
    {
      "cell_type": "markdown",
      "id": "e4b13374",
      "metadata": {
        "id": "e4b13374"
      },
      "source": [
        "Вывод:\n",
        "\n",
        "На данном шаге проекта мы сформировали таблицу, по которой затем посчитали месячную выручку за каждого пользователя."
      ]
    },
    {
      "cell_type": "code",
      "execution_count": null,
      "id": "a2fecbb1",
      "metadata": {
        "id": "a2fecbb1",
        "outputId": "e6db30d1-8ffb-40b1-d31f-428343da081b"
      },
      "outputs": [
        {
          "data": {
            "text/plain": [
              "subscription_fee\n",
              "0      321.602736\n",
              "199    358.520300\n",
              "Name: month_price, dtype: float64"
            ]
          },
          "execution_count": 40,
          "metadata": {},
          "output_type": "execute_result"
        }
      ],
      "source": [
        "# Код ревьюера\n",
        "agg_data.groupby('subscription_fee')['month_price'].mean()"
      ]
    },
    {
      "cell_type": "markdown",
      "id": "41545ac0",
      "metadata": {
        "id": "41545ac0"
      },
      "source": [
        "#### Шаг 6. Проверка гипотез"
      ]
    },
    {
      "cell_type": "markdown",
      "id": "4e336785",
      "metadata": {
        "id": "4e336785"
      },
      "source": [
        "Нулевая гипотеза: \"Пользователи с подпиской и без тратят одинаково времени на поездки\".\n",
        "\n",
        "Альтернативная: \"Пользователи с подпиской тратят больше времени на поездки\"."
      ]
    },
    {
      "cell_type": "code",
      "execution_count": null,
      "id": "e9812161",
      "metadata": {
        "scrolled": true,
        "id": "e9812161",
        "outputId": "07436d46-d3d6-41cd-b9da-702680b84b90"
      },
      "outputs": [
        {
          "name": "stdout",
          "output_type": "stream",
          "text": [
            "Нулевую гипотезу отвергаем в пользу альтернативной, pvalue = 3.944525855216889e-24\n"
          ]
        }
      ],
      "source": [
        "test_duration_free = data_free['duration']\n",
        "test_duration_ultra = data_ultra['duration']\n",
        "results = st.ttest_ind(test_duration_free, test_duration_ultra)\n",
        "alpha = 0.05\n",
        "if results.pvalue / 2 < alpha:\n",
        "    if test_duration_ultra.mean() > test_duration_free.mean():\n",
        "        print('Нулевую гипотезу отвергаем в пользу альтернативной, pvalue = {}'.format(results.pvalue))\n",
        "    else:\n",
        "        print('Нулевую гипотезу отвергаем, pvalue = {}'.format(results.pvalue))\n",
        "else:\n",
        "    print('Нулевую гипотезу не отвергаем, pvalue = {}'.format(results.pvalue))"
      ]
    },
    {
      "cell_type": "markdown",
      "id": "9873b704",
      "metadata": {
        "id": "9873b704"
      },
      "source": [
        "В результате теста мы получили, что для данных выборок пользователи с подпиской тратят больще времени на поездки, чем пользователи без подписок. Необходимо также сравнить прибыль от пользователей этих двух категорий."
      ]
    },
    {
      "cell_type": "markdown",
      "id": "77b19bc9",
      "metadata": {
        "id": "77b19bc9"
      },
      "source": [
        "Нулевая гипотеза: \"Расстояние, которое проезжают пользователи с подпиской за одну поездку меньше 3130 метров\".\n",
        "\n",
        "Альтернативня гипотеза: \"Расстояние, которое проезжают пользователи с подпиской за одну поездку больше или равно 3130 метров\"."
      ]
    },
    {
      "cell_type": "code",
      "execution_count": null,
      "id": "c5620f43",
      "metadata": {
        "id": "c5620f43",
        "outputId": "c3c42f41-f7f0-4e7d-c95b-b14c79757eba"
      },
      "outputs": [
        {
          "name": "stdout",
          "output_type": "stream",
          "text": [
            "Гипотезу не отвергаем, pvalue = 0.07602203203995093\n"
          ]
        }
      ],
      "source": [
        "test_distance_ultra = data_ultra['distance']\n",
        "interested_value = 3130\n",
        "alpha = 0.05\n",
        "results = st.ttest_1samp(test_distance_ultra, interested_value, alternative='less')\n",
        "\n",
        "if results.pvalue < alpha:\n",
        "    print('Гипотезу отвергаем, pvalue = {}'.format(results.pvalue))\n",
        "else:\n",
        "    if test_distance_ultra.mean() < 3130:\n",
        "        print('Гипотезу не отвергаем, pvalue = {}'.format(results.pvalue))\n",
        "    else:\n",
        "        print('Гипотезу отвергаем, pvalue = {}'.format(results.pvalue))"
      ]
    },
    {
      "cell_type": "markdown",
      "id": "6f853a27",
      "metadata": {
        "id": "6f853a27"
      },
      "source": [
        "В результате данного теста мы получии уровень значение pvalue = 0.76, что укладывается в рамки уровня статистической значимости, а также среднее значение проезжаемого расстояни меньше 3130, значит нулевая гипотеза не может быть отвергнута."
      ]
    },
    {
      "cell_type": "markdown",
      "id": "185c3a7d",
      "metadata": {
        "id": "185c3a7d"
      },
      "source": [
        "Нулевая гипотеза: \"Выручка от пользователей с подпиской равна выручке от пользователей без подписки\".\n",
        "\n",
        "Альтернативная гипотеза: \"Выручка от пользователей с подпиской выше, чем выручка от пользователей без подписки\"."
      ]
    },
    {
      "cell_type": "code",
      "execution_count": null,
      "id": "d22a7f7a",
      "metadata": {
        "id": "d22a7f7a",
        "outputId": "82b61fd3-b2f7-4dd4-f38c-5e386cb3592f"
      },
      "outputs": [
        {
          "name": "stdout",
          "output_type": "stream",
          "text": [
            "Нулевую гипотезу отвергаем в пользу альтернативной, pvalue = 2.1678584836215122e-33\n"
          ]
        }
      ],
      "source": [
        "test_payment_free = agg_data.loc[agg_data['start_ride_price'] == 50, 'month_price']\n",
        "test_payment_ultra = agg_data.loc[agg_data['start_ride_price'] == 0, 'month_price']\n",
        "test_payment_free = test_payment_free.sample(len(test_payment_ultra))\n",
        "\n",
        "alpha = 0.05\n",
        "results = st.ttest_rel(test_payment_free, test_payment_ultra)\n",
        "if results.pvalue / 2 < alpha:\n",
        "    if test_payment_ultra.mean() > test_payment_free.mean():\n",
        "        print('Нулевую гипотезу отвергаем в пользу альтернативной, pvalue = {}'.format(results.pvalue))\n",
        "    else:\n",
        "        print('Нулевую гипотезу отвергаем, pvalue = {}'.format(results.pvalue))\n",
        "else:\n",
        "    print('Нулевую гипотезу не отвергаем, pvalue = {}'.format(results.pvalue))"
      ]
    },
    {
      "cell_type": "markdown",
      "id": "b945bd22",
      "metadata": {
        "id": "b945bd22"
      },
      "source": [
        "В результате выполнения теста мы получили такое значение pvalue, что нулевая гипотеза отвергается. Однако при сравнении средних показателей дохода от пользователей с подпиской и без оказалось, что пользователи без подписки приносят больше прибыли, чем пользователи с подпиской. То есть увеличение количества пользователей с подпиской для компании финансово не выгодно."
      ]
    },
    {
      "cell_type": "markdown",
      "id": "3a73289f",
      "metadata": {
        "id": "3a73289f"
      },
      "source": [
        "Вывод:\n",
        "\n",
        "В ходе этого шага были получены следующие результаты:\n",
        "- пользователи с подпиской действительно тратят больше времени на поездки\n",
        "- расстояние 1 поездки в среднем меньше 3130 м\n",
        "- выручка от пользователей с подпиской меньше выручки от пользователей без подписки"
      ]
    },
    {
      "cell_type": "markdown",
      "id": "61213c5e",
      "metadata": {
        "id": "61213c5e"
      },
      "source": [
        "#### Шаг 7. Распределения"
      ]
    },
    {
      "cell_type": "markdown",
      "id": "e0c34ece",
      "metadata": {
        "id": "e0c34ece"
      },
      "source": [
        "Задача\n",
        "\n",
        "Отделу маркетинга GoFast поставили задачу: нужно провести акцию с раздачей промокодов на один бесплатный месяц подписки, в рамках которой как минимум 100 существующих клиентов должны продлить эту подписку. То есть по завершении периода действия подписки пользователь может либо отказаться от неё, либо продлить, совершив соотвествующий платёж.\n",
        "\n",
        "Эта акция уже проводилась ранее и по итогу выяснилось, что после бесплатного пробного периода подписку продлевают 10% пользователей. Выясните, какое минимальное количество промокодов нужно разослать, чтобы вероятность не выполнить план была примерно 5%. Подберите параметры распределения, описывающего эту ситуацию, постройте график распределения и сформулируйте ответ на вопрос о количестве промокодов."
      ]
    },
    {
      "cell_type": "markdown",
      "id": "5810f0c4",
      "metadata": {
        "id": "5810f0c4"
      },
      "source": [
        "Решение\n",
        "\n",
        "Напишем функцию подбирающую такое n (необходимое количество бесплатных промокодов), при котором код\n",
        "``` python\n",
        "1 - st.binom.cdf(k, n, p)\n",
        "```\n",
        "возвращает ближайшую к `alpha` вероятность.\n",
        "\n",
        "Построим распределение график распределения для разных значений `k`."
      ]
    },
    {
      "cell_type": "code",
      "execution_count": null,
      "id": "95cd1d51",
      "metadata": {
        "scrolled": false,
        "id": "95cd1d51",
        "outputId": "6ee0d332-d589-4d36-d512-5fd1a188c1e9"
      },
      "outputs": [
        {
          "data": {
            "image/png": "[encoded data removed]",
            "text/plain": [
              "<Figure size 1080x288 with 1 Axes>"
            ]
          },
          "metadata": {
            "needs_background": "light"
          },
          "output_type": "display_data"
        }
      ],
      "source": [
        "\n",
        "def n_selection(k, n, p):\n",
        "    for step in [100, 10, 1]:\n",
        "        while round(1 - st.binom.cdf(k, n + step, p), 3) <= alpha:\n",
        "            n += step\n",
        "    if alpha - (1 - st.binom.cdf(k, n, p)) < alpha - (1 - st.binom.cdf(k, n + 1, p)):\n",
        "        return n\n",
        "    else:\n",
        "        return n + 1\n",
        "\n",
        "k = 100\n",
        "n = 0\n",
        "p = 0.1\n",
        "alpha = 0.05\n",
        "\n",
        "n = n_selection(k, n, p)\n",
        "distr = []\n",
        "for k in range(0, n + 1):\n",
        "    current_value = st.binom.pmf(k, n, p)\n",
        "    distr.append(current_value)\n",
        "\n",
        "reload(plt)\n",
        "plt.figure(figsize=(15, 4))\n",
        "plt.bar(range(0, n + 1), distr)\n",
        "plt.xlim(40,140)\n",
        "plt.grid(True)\n",
        "plt.title('График распределения')\n",
        "plt.xlabel('Количество успешных испытаний (продлений подписки)')\n",
        "plt.ylabel('Вероятность');"
      ]
    },
    {
      "cell_type": "code",
      "execution_count": null,
      "id": "d2ca295d",
      "metadata": {
        "id": "d2ca295d",
        "outputId": "b6b53584-34f6-45bd-f07d-7663f24ec6f2"
      },
      "outputs": [
        {
          "data": {
            "text/plain": [
              "859"
            ]
          },
          "execution_count": 37,
          "metadata": {},
          "output_type": "execute_result"
        }
      ],
      "source": [
        "n"
      ]
    },
    {
      "cell_type": "markdown",
      "id": "1ffe8273",
      "metadata": {
        "id": "1ffe8273"
      },
      "source": [
        "Вывод:\n",
        "\n",
        "По результатам работы функции получаем, что минимальное количество бесплатных подписок, которое необходимо раздать пользователям, чтобы получить 100 продлений с вероятностью около 95% - 859 подписок."
      ]
    },
    {
      "cell_type": "markdown",
      "id": "8164afdd",
      "metadata": {
        "id": "8164afdd"
      },
      "source": [
        "Задача\n",
        "\n",
        "Отдел маркетинга рассылает клиентам push-уведомления в мобильном приложении. Клиенты могут открыть его или не открывать. Известно, что уведомления открывают около 40% получивших клиентов. Отдел планирует разослать 1 млн уведомлений. С помощью аппроксимации постройте примерный график распределения и оцените вероятность того, что уведомление откроют не более 399,5 тыс. пользователей."
      ]
    },
    {
      "cell_type": "markdown",
      "id": "a5dd2f7f",
      "metadata": {
        "id": "a5dd2f7f"
      },
      "source": [
        "Решение\n",
        "\n",
        "Построим нормальное распределение по заданным по условию мат. ожиданием и СКО. Для них построим график распределения, а затем определим вероятность того, что уведомление откроют не более 399,5 тыс. пользователей."
      ]
    },
    {
      "cell_type": "code",
      "execution_count": null,
      "id": "2882fd79",
      "metadata": {
        "scrolled": true,
        "id": "2882fd79",
        "outputId": "54661718-e249-496c-d056-04de8cb2bec5"
      },
      "outputs": [
        {
          "data": {
            "image/png": "[encoded data removed]",
            "text/plain": [
              "<Figure size 1080x288 with 1 Axes>"
            ]
          },
          "metadata": {
            "needs_background": "light"
          },
          "output_type": "display_data"
        }
      ],
      "source": [
        "n = 1000000\n",
        "p = 0.4\n",
        "\n",
        "mu = n * p\n",
        "sigma = sqrt(n * p * (1 - p))\n",
        "distr = st.norm(mu, sigma)\n",
        "\n",
        "plt.figure(figsize=(15, 4))\n",
        "plt.grid(True)\n",
        "plt.title('График нормального распределения')\n",
        "plt.xlabel('Количество успешных испытаний (открытий уведомлений)')\n",
        "plt.ylabel('Вероятность')\n",
        "x = np.linspace(mu - 4*sigma, mu + 4*sigma, 100)\n",
        "plt.plot(x, distr.pdf(x))\n",
        "plt.show()"
      ]
    },
    {
      "cell_type": "code",
      "execution_count": null,
      "id": "4c1f09d9",
      "metadata": {
        "id": "4c1f09d9",
        "outputId": "076f4006-7822-469b-d857-49f345a1d51d"
      },
      "outputs": [
        {
          "data": {
            "text/plain": [
              "15.37"
            ]
          },
          "execution_count": 39,
          "metadata": {},
          "output_type": "execute_result"
        }
      ],
      "source": [
        "round(distr.cdf(399500) * 100, 2)"
      ]
    },
    {
      "cell_type": "markdown",
      "id": "c7084b7f",
      "metadata": {
        "id": "c7084b7f"
      },
      "source": [
        "Вывод:\n",
        "\n",
        "При заданных характеристиках полученная вероятность составляет примерно 15.37 %"
      ]
    },
    {
      "cell_type": "markdown",
      "id": "c162c21a",
      "metadata": {
        "id": "c162c21a"
      },
      "source": [
        "### Шаг 8. Общий вывод"
      ]
    },
    {
      "cell_type": "markdown",
      "id": "45da79c4",
      "metadata": {
        "id": "45da79c4"
      },
      "source": [
        "В рамках данного задания нами были загружены и описаны данные, затем из них были удалены выбросы и аномальные значения. Затем данные были исследованы и объединены для удобства работы с ними в 1 датафрейм. На основе полученного датафрейма была составлена сводная таблица с данными о выручке по каждому пользователю за каждый месяц.\n",
        "\n",
        "В результате проверки гипотез оказалось, что пользователи с подпиской пользуются самокатами по времени больше, чем пользователи без подписки, причем в среднем они проезжают меньше 3130 м. Анализ выручки показал, что пользователи с подпиской приносят компании меньше выручки, чем пользователи без подписки.\n",
        "\n",
        "Для исправления этой ситуации возможен либо более тщательный подбор параметров (цена на подписку и за минуту проката), чтобы повысить доход от каждого пользователя, либо работа над рекламой и продвижением подписки, чтобы повысить количество пользователей с подпиской."
      ]
    }
  ],
  "metadata": {
    "ExecuteTimeLog": [
      {
        "duration": 1311,
        "start_time": "2023-04-26T14:07:05.204Z"
      },
      {
        "duration": 152,
        "start_time": "2023-04-26T14:07:06.517Z"
      },
      {
        "duration": 0,
        "start_time": "2023-04-26T14:07:06.672Z"
      },
      {
        "duration": 0,
        "start_time": "2023-04-26T14:07:06.673Z"
      },
      {
        "duration": 0,
        "start_time": "2023-04-26T14:07:06.674Z"
      },
      {
        "duration": 0,
        "start_time": "2023-04-26T14:07:06.675Z"
      },
      {
        "duration": 0,
        "start_time": "2023-04-26T14:07:06.676Z"
      },
      {
        "duration": 0,
        "start_time": "2023-04-26T14:07:06.677Z"
      },
      {
        "duration": 0,
        "start_time": "2023-04-26T14:07:06.677Z"
      },
      {
        "duration": 0,
        "start_time": "2023-04-26T14:07:06.678Z"
      },
      {
        "duration": 0,
        "start_time": "2023-04-26T14:07:06.685Z"
      },
      {
        "duration": 0,
        "start_time": "2023-04-26T14:07:06.686Z"
      },
      {
        "duration": 0,
        "start_time": "2023-04-26T14:07:06.687Z"
      },
      {
        "duration": 0,
        "start_time": "2023-04-26T14:07:06.688Z"
      },
      {
        "duration": 0,
        "start_time": "2023-04-26T14:07:06.689Z"
      },
      {
        "duration": 0,
        "start_time": "2023-04-26T14:07:06.690Z"
      },
      {
        "duration": 0,
        "start_time": "2023-04-26T14:07:06.691Z"
      },
      {
        "duration": 0,
        "start_time": "2023-04-26T14:07:06.692Z"
      },
      {
        "duration": 0,
        "start_time": "2023-04-26T14:07:06.693Z"
      },
      {
        "duration": 0,
        "start_time": "2023-04-26T14:07:06.694Z"
      },
      {
        "duration": 0,
        "start_time": "2023-04-26T14:07:06.696Z"
      },
      {
        "duration": 0,
        "start_time": "2023-04-26T14:07:06.697Z"
      },
      {
        "duration": 0,
        "start_time": "2023-04-26T14:07:06.698Z"
      },
      {
        "duration": 0,
        "start_time": "2023-04-26T14:07:06.700Z"
      },
      {
        "duration": 0,
        "start_time": "2023-04-26T14:07:06.701Z"
      },
      {
        "duration": 0,
        "start_time": "2023-04-26T14:07:06.703Z"
      },
      {
        "duration": 0,
        "start_time": "2023-04-26T14:07:06.704Z"
      },
      {
        "duration": 0,
        "start_time": "2023-04-26T14:07:06.706Z"
      },
      {
        "duration": 0,
        "start_time": "2023-04-26T14:07:06.707Z"
      },
      {
        "duration": 0,
        "start_time": "2023-04-26T14:07:06.708Z"
      },
      {
        "duration": 0,
        "start_time": "2023-04-26T14:07:06.709Z"
      },
      {
        "duration": 0,
        "start_time": "2023-04-26T14:07:06.712Z"
      },
      {
        "duration": 0,
        "start_time": "2023-04-26T14:07:06.713Z"
      },
      {
        "duration": 0,
        "start_time": "2023-04-26T14:07:06.714Z"
      },
      {
        "duration": 0,
        "start_time": "2023-04-26T14:07:06.715Z"
      },
      {
        "duration": 0,
        "start_time": "2023-04-26T14:07:06.716Z"
      },
      {
        "duration": 0,
        "start_time": "2023-04-26T14:07:06.717Z"
      },
      {
        "duration": 0,
        "start_time": "2023-04-26T14:07:06.719Z"
      },
      {
        "duration": 112,
        "start_time": "2023-04-26T14:07:54.992Z"
      },
      {
        "duration": 108,
        "start_time": "2023-04-26T14:08:02.470Z"
      },
      {
        "duration": 194,
        "start_time": "2023-04-26T14:08:33.275Z"
      },
      {
        "duration": 14,
        "start_time": "2023-04-26T14:08:38.460Z"
      },
      {
        "duration": 80,
        "start_time": "2023-04-26T14:09:07.599Z"
      },
      {
        "duration": 1066,
        "start_time": "2023-04-26T14:09:14.138Z"
      },
      {
        "duration": 36,
        "start_time": "2023-04-26T14:09:15.206Z"
      },
      {
        "duration": 13,
        "start_time": "2023-04-26T14:09:15.244Z"
      },
      {
        "duration": 58,
        "start_time": "2023-04-26T14:09:15.258Z"
      },
      {
        "duration": 10,
        "start_time": "2023-04-26T14:09:15.318Z"
      },
      {
        "duration": 29,
        "start_time": "2023-04-26T14:09:15.330Z"
      },
      {
        "duration": 11,
        "start_time": "2023-04-26T14:09:15.361Z"
      },
      {
        "duration": 22,
        "start_time": "2023-04-26T14:09:15.373Z"
      },
      {
        "duration": 24,
        "start_time": "2023-04-26T14:09:15.397Z"
      },
      {
        "duration": 14,
        "start_time": "2023-04-26T14:09:15.423Z"
      },
      {
        "duration": 8,
        "start_time": "2023-04-26T14:09:15.439Z"
      },
      {
        "duration": 6,
        "start_time": "2023-04-26T14:09:15.448Z"
      },
      {
        "duration": 21,
        "start_time": "2023-04-26T14:09:15.456Z"
      },
      {
        "duration": 36,
        "start_time": "2023-04-26T14:09:15.479Z"
      },
      {
        "duration": 416,
        "start_time": "2023-04-26T14:09:15.517Z"
      },
      {
        "duration": 200,
        "start_time": "2023-04-26T14:09:15.935Z"
      },
      {
        "duration": 4,
        "start_time": "2023-04-26T14:09:16.137Z"
      },
      {
        "duration": 276,
        "start_time": "2023-04-26T14:09:16.142Z"
      },
      {
        "duration": 8,
        "start_time": "2023-04-26T14:09:16.420Z"
      },
      {
        "duration": 13,
        "start_time": "2023-04-26T14:09:16.429Z"
      },
      {
        "duration": 197,
        "start_time": "2023-04-26T14:09:16.443Z"
      },
      {
        "duration": 94,
        "start_time": "2023-04-26T14:09:16.642Z"
      },
      {
        "duration": 212,
        "start_time": "2023-04-26T14:09:16.738Z"
      },
      {
        "duration": 210,
        "start_time": "2023-04-26T14:09:16.951Z"
      },
      {
        "duration": 38,
        "start_time": "2023-04-26T14:09:17.162Z"
      },
      {
        "duration": 10,
        "start_time": "2023-04-26T14:09:17.202Z"
      },
      {
        "duration": 529,
        "start_time": "2023-04-26T14:09:17.213Z"
      },
      {
        "duration": 552,
        "start_time": "2023-04-26T14:09:17.744Z"
      },
      {
        "duration": 64,
        "start_time": "2023-04-26T14:09:18.297Z"
      },
      {
        "duration": 706,
        "start_time": "2023-04-26T14:09:18.363Z"
      },
      {
        "duration": 3685,
        "start_time": "2023-04-26T14:09:19.071Z"
      },
      {
        "duration": 7,
        "start_time": "2023-04-26T14:09:22.757Z"
      },
      {
        "duration": 6,
        "start_time": "2023-04-26T14:09:22.765Z"
      },
      {
        "duration": 116,
        "start_time": "2023-04-26T14:09:22.784Z"
      },
      {
        "duration": 0,
        "start_time": "2023-04-26T14:09:22.905Z"
      },
      {
        "duration": 0,
        "start_time": "2023-04-26T14:09:22.906Z"
      },
      {
        "duration": 0,
        "start_time": "2023-04-26T14:09:22.907Z"
      },
      {
        "duration": 0,
        "start_time": "2023-04-26T14:09:22.908Z"
      },
      {
        "duration": 127,
        "start_time": "2023-04-26T14:14:10.397Z"
      },
      {
        "duration": 99,
        "start_time": "2023-04-26T14:26:41.210Z"
      },
      {
        "duration": 108,
        "start_time": "2023-04-26T14:28:07.332Z"
      },
      {
        "duration": 2355,
        "start_time": "2023-04-29T16:54:19.814Z"
      },
      {
        "duration": 265,
        "start_time": "2023-04-29T16:54:22.174Z"
      },
      {
        "duration": 32,
        "start_time": "2023-04-29T16:54:22.447Z"
      },
      {
        "duration": 211,
        "start_time": "2023-04-29T16:54:22.488Z"
      },
      {
        "duration": 21,
        "start_time": "2023-04-29T16:54:22.713Z"
      },
      {
        "duration": 119,
        "start_time": "2023-04-29T16:54:22.737Z"
      },
      {
        "duration": 43,
        "start_time": "2023-04-29T16:54:22.864Z"
      },
      {
        "duration": 120,
        "start_time": "2023-04-29T16:54:22.913Z"
      },
      {
        "duration": 76,
        "start_time": "2023-04-29T16:54:23.036Z"
      },
      {
        "duration": 76,
        "start_time": "2023-04-29T16:54:23.121Z"
      },
      {
        "duration": 34,
        "start_time": "2023-04-29T16:54:23.204Z"
      },
      {
        "duration": 59,
        "start_time": "2023-04-29T16:54:23.242Z"
      },
      {
        "duration": 140,
        "start_time": "2023-04-29T16:54:23.304Z"
      },
      {
        "duration": 93,
        "start_time": "2023-04-29T16:54:23.450Z"
      },
      {
        "duration": 731,
        "start_time": "2023-04-29T16:54:23.546Z"
      },
      {
        "duration": 470,
        "start_time": "2023-04-29T16:54:24.283Z"
      },
      {
        "duration": 14,
        "start_time": "2023-04-29T16:54:24.755Z"
      },
      {
        "duration": 670,
        "start_time": "2023-04-29T16:54:24.771Z"
      },
      {
        "duration": 17,
        "start_time": "2023-04-29T16:54:25.444Z"
      },
      {
        "duration": 86,
        "start_time": "2023-04-29T16:54:25.463Z"
      },
      {
        "duration": 465,
        "start_time": "2023-04-29T16:54:25.556Z"
      },
      {
        "duration": 154,
        "start_time": "2023-04-29T16:54:26.023Z"
      },
      {
        "duration": 373,
        "start_time": "2023-04-29T16:54:26.184Z"
      },
      {
        "duration": 444,
        "start_time": "2023-04-29T16:54:26.565Z"
      },
      {
        "duration": 727,
        "start_time": "2023-04-29T16:54:27.012Z"
      },
      {
        "duration": 611,
        "start_time": "2023-04-29T16:54:27.754Z"
      },
      {
        "duration": 74,
        "start_time": "2023-04-29T16:54:28.372Z"
      },
      {
        "duration": 48,
        "start_time": "2023-04-29T16:54:28.461Z"
      },
      {
        "duration": 892,
        "start_time": "2023-04-29T16:54:28.520Z"
      },
      {
        "duration": 994,
        "start_time": "2023-04-29T16:54:29.419Z"
      },
      {
        "duration": 68,
        "start_time": "2023-04-29T16:54:30.416Z"
      },
      {
        "duration": 725,
        "start_time": "2023-04-29T16:54:30.488Z"
      },
      {
        "duration": 26,
        "start_time": "2023-04-29T16:54:31.232Z"
      },
      {
        "duration": 86,
        "start_time": "2023-04-29T16:54:31.271Z"
      },
      {
        "duration": 62,
        "start_time": "2023-04-29T16:54:31.372Z"
      },
      {
        "duration": 2599,
        "start_time": "2023-04-29T16:54:31.438Z"
      },
      {
        "duration": 50,
        "start_time": "2023-04-29T16:54:34.039Z"
      },
      {
        "duration": 433,
        "start_time": "2023-04-29T16:54:34.104Z"
      },
      {
        "duration": 12,
        "start_time": "2023-04-29T16:54:34.539Z"
      },
      {
        "duration": 18,
        "start_time": "2023-04-29T16:59:59.863Z"
      },
      {
        "duration": 217,
        "start_time": "2023-04-29T17:01:45.518Z"
      }
    ],
    "kernelspec": {
      "display_name": "Python 3 (ipykernel)",
      "language": "python",
      "name": "python3"
    },
    "language_info": {
      "codemirror_mode": {
        "name": "ipython",
        "version": 3
      },
      "file_extension": ".py",
      "mimetype": "text/x-python",
      "name": "python",
      "nbconvert_exporter": "python",
      "pygments_lexer": "ipython3",
      "version": "3.9.5"
    },
    "toc": {
      "base_numbering": 1,
      "nav_menu": {},
      "number_sections": true,
      "sideBar": true,
      "skip_h1_title": true,
      "title_cell": "Table of Contents",
      "title_sidebar": "Contents",
      "toc_cell": false,
      "toc_position": {},
      "toc_section_display": true,
      "toc_window_display": false
    },
    "colab": {
      "provenance": []
    }
  },
  "nbformat": 4,
  "nbformat_minor": 5
}