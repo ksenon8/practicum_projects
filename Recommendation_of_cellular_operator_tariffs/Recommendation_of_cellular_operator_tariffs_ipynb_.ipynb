{
  "cells": [
    {
      "cell_type": "markdown",
      "id": "49343eb2",
      "metadata": {
        "id": "49343eb2"
      },
      "source": [
        "# Рекомендация тарифов\n",
        "\n",
        "## Описание проекта\n",
        "\n",
        "Оператор мобильной связи «Мегалайн» выяснил: многие клиенты пользуются архивными тарифами. Они хотят построить систему, способную проанализировать поведение клиентов и предложить пользователям новый тариф: «Смарт» или «Ультра».\n",
        "В нашем распоряжении данные о поведении клиентов, которые уже перешли на эти тарифы. Нужно построить модель для задачи классификации, которая выберет подходящий тариф. Предобработка данных не понадобится — она уже сделана.\n",
        "\n",
        "## Описание данных\n",
        "\n",
        "Каждый объект в наборе данных — это информация о поведении одного пользователя за месяц.\n",
        "- сalls — количество звонков\n",
        "- minutes — суммарная длительность звонков в минутах\n",
        "- messages — количество sms-сообщений\n",
        "- mb_used — израсходованный интернет-тафик в Мб\n",
        "- is_ultra — каким тарифом пользовался в течение месяца («Ультра» — 1, «Смарт» — 0)\n",
        "\n",
        "## Ход работы\n",
        "\n",
        "1) Изучение данных\n",
        "2) Разделение данных на обучающую, валидационную и тестовую выборки\n",
        "3) Применение разных моделей, изучение их качества\n",
        "4) Выбор подходящей модели\n",
        "5) Проверка качества модели на тестовой выборке\n",
        "6) Проверка модели на вменяемость\n",
        "7) Вывод"
      ]
    },
    {
      "cell_type": "code",
      "execution_count": null,
      "id": "16ff6b07",
      "metadata": {
        "id": "16ff6b07"
      },
      "outputs": [],
      "source": [
        "from sklearn.model_selection import train_test_split\n",
        "from sklearn.linear_model import LogisticRegression\n",
        "from sklearn.ensemble import RandomForestClassifier\n",
        "from sklearn.tree import DecisionTreeClassifier\n",
        "from sklearn.metrics import accuracy_score\n",
        "from sklearn.dummy import DummyClassifier\n",
        "\n",
        "import pandas as pd\n",
        "import time as tm"
      ]
    },
    {
      "cell_type": "markdown",
      "id": "3ae52f44",
      "metadata": {
        "id": "3ae52f44"
      },
      "source": [
        "## Получение и изучение данных\n",
        "\n",
        "Получим данные и изучим их. Для этого выведем первые строки датафрейма, основную информацию о данных и построим распределение данных."
      ]
    },
    {
      "cell_type": "code",
      "execution_count": null,
      "id": "9b5776d0",
      "metadata": {
        "id": "9b5776d0"
      },
      "outputs": [],
      "source": [
        "try:\n",
        "    df = pd.read_csv('C:\\\\Users\\\\Ксения\\\\Downloads\\\\users_behavior.csv')\n",
        "except:\n",
        "    df = pd.read_csv('/datasets/users_behavior.csv')"
      ]
    },
    {
      "cell_type": "code",
      "execution_count": null,
      "id": "bec5e728",
      "metadata": {
        "id": "bec5e728",
        "outputId": "272a8254-1130-4902-efd5-b5713be95565"
      },
      "outputs": [
        {
          "data": {
            "text/html": [
              "<div>\n",
              "<style scoped>\n",
              "    .dataframe tbody tr th:only-of-type {\n",
              "        vertical-align: middle;\n",
              "    }\n",
              "\n",
              "    .dataframe tbody tr th {\n",
              "        vertical-align: top;\n",
              "    }\n",
              "\n",
              "    .dataframe thead th {\n",
              "        text-align: right;\n",
              "    }\n",
              "</style>\n",
              "<table border=\"1\" class=\"dataframe\">\n",
              "  <thead>\n",
              "    <tr style=\"text-align: right;\">\n",
              "      <th></th>\n",
              "      <th>calls</th>\n",
              "      <th>minutes</th>\n",
              "      <th>messages</th>\n",
              "      <th>mb_used</th>\n",
              "      <th>is_ultra</th>\n",
              "    </tr>\n",
              "  </thead>\n",
              "  <tbody>\n",
              "    <tr>\n",
              "      <th>0</th>\n",
              "      <td>40.0</td>\n",
              "      <td>311.90</td>\n",
              "      <td>83.0</td>\n",
              "      <td>19915.42</td>\n",
              "      <td>0</td>\n",
              "    </tr>\n",
              "    <tr>\n",
              "      <th>1</th>\n",
              "      <td>85.0</td>\n",
              "      <td>516.75</td>\n",
              "      <td>56.0</td>\n",
              "      <td>22696.96</td>\n",
              "      <td>0</td>\n",
              "    </tr>\n",
              "    <tr>\n",
              "      <th>2</th>\n",
              "      <td>77.0</td>\n",
              "      <td>467.66</td>\n",
              "      <td>86.0</td>\n",
              "      <td>21060.45</td>\n",
              "      <td>0</td>\n",
              "    </tr>\n",
              "    <tr>\n",
              "      <th>3</th>\n",
              "      <td>106.0</td>\n",
              "      <td>745.53</td>\n",
              "      <td>81.0</td>\n",
              "      <td>8437.39</td>\n",
              "      <td>1</td>\n",
              "    </tr>\n",
              "    <tr>\n",
              "      <th>4</th>\n",
              "      <td>66.0</td>\n",
              "      <td>418.74</td>\n",
              "      <td>1.0</td>\n",
              "      <td>14502.75</td>\n",
              "      <td>0</td>\n",
              "    </tr>\n",
              "  </tbody>\n",
              "</table>\n",
              "</div>"
            ],
            "text/plain": [
              "   calls  minutes  messages   mb_used  is_ultra\n",
              "0   40.0   311.90      83.0  19915.42         0\n",
              "1   85.0   516.75      56.0  22696.96         0\n",
              "2   77.0   467.66      86.0  21060.45         0\n",
              "3  106.0   745.53      81.0   8437.39         1\n",
              "4   66.0   418.74       1.0  14502.75         0"
            ]
          },
          "execution_count": 3,
          "metadata": {},
          "output_type": "execute_result"
        }
      ],
      "source": [
        "df.head()"
      ]
    },
    {
      "cell_type": "code",
      "execution_count": null,
      "id": "95a544c6",
      "metadata": {
        "scrolled": false,
        "id": "95a544c6",
        "outputId": "cf52fb00-3b77-48fe-81ba-3ce3a9e0e9ef"
      },
      "outputs": [
        {
          "name": "stdout",
          "output_type": "stream",
          "text": [
            "<class 'pandas.core.frame.DataFrame'>\n",
            "RangeIndex: 3214 entries, 0 to 3213\n",
            "Data columns (total 5 columns):\n",
            " #   Column    Non-Null Count  Dtype  \n",
            "---  ------    --------------  -----  \n",
            " 0   calls     3214 non-null   float64\n",
            " 1   minutes   3214 non-null   float64\n",
            " 2   messages  3214 non-null   float64\n",
            " 3   mb_used   3214 non-null   float64\n",
            " 4   is_ultra  3214 non-null   int64  \n",
            "dtypes: float64(4), int64(1)\n",
            "memory usage: 125.7 KB\n"
          ]
        }
      ],
      "source": [
        "df.info()"
      ]
    },
    {
      "cell_type": "code",
      "execution_count": null,
      "id": "db40416b",
      "metadata": {
        "id": "db40416b",
        "outputId": "ceb8473f-a0d7-4b8c-a86d-06054dff0876"
      },
      "outputs": [
        {
          "data": {
            "image/png": "[encoded data removed]",
            "text/plain": [
              "<Figure size 1440x720 with 6 Axes>"
            ]
          },
          "metadata": {
            "needs_background": "light"
          },
          "output_type": "display_data"
        }
      ],
      "source": [
        "df.hist(bins=10, figsize=(20, 10));"
      ]
    },
    {
      "cell_type": "markdown",
      "id": "f4b7ad24",
      "metadata": {
        "id": "f4b7ad24"
      },
      "source": [
        "Вывод:\n",
        "\n",
        "Убедимся, что предобработка не требуется. Пропусков в данных нет, выбросов и аномальных значений нет, распределения соответствуют теоретически ожидаемым."
      ]
    },
    {
      "cell_type": "markdown",
      "id": "259fb9c8",
      "metadata": {
        "id": "259fb9c8"
      },
      "source": [
        "## Разделение данных на обучающую, валидационную и тестовую выборки\n",
        "\n",
        "Перед разделением данных необходимо их подготовить, выделив признаки и целеворй признак в разные переменные.\n",
        "\n",
        "Затем разделим данные в cоотношении 3/1/1. Для этого выделим 20% исходных данных в тестовую выборку и 25% от оставшихся данных в валидационную выборку."
      ]
    },
    {
      "cell_type": "code",
      "execution_count": null,
      "id": "94465dfa",
      "metadata": {
        "id": "94465dfa"
      },
      "outputs": [],
      "source": [
        "#подготовка данных\n",
        "def data_preparation(df, target_feature, proportions=(3, 1, 1)):\n",
        "    #нормировка данных\n",
        "    df = (df-df.min())/ (df.max() - df.min())\n",
        "\n",
        "    #выделение целевого признака\n",
        "    test_percent = (100 / sum(proportions)) * proportions[2]\n",
        "    valid_percent = (100 / (100 - test_percent)) * (100 / sum(proportions)) * proportions[1]\n",
        "    features = df.drop(target_feature, axis=1)\n",
        "    target = df.loc[:, target_feature]\n",
        "\n",
        "    #рвзделение данных на выборки\n",
        "    features_train_valid, features_test, target_train_valid,  target_test = train_test_split(\n",
        "        features,\n",
        "        target,\n",
        "        test_size=(test_percent / 100),\n",
        "        random_state=12345,\n",
        "        stratify=target)\n",
        "    features_train, features_valid, target_train,  target_valid = train_test_split(\n",
        "        features_train_valid,\n",
        "        target_train_valid,\n",
        "        test_size=(valid_percent / 100),\n",
        "        random_state=12345,\n",
        "        stratify=target_train_valid)\n",
        "\n",
        "    return features_train, target_train, features_valid, target_valid, features_test,  target_test"
      ]
    },
    {
      "cell_type": "code",
      "execution_count": null,
      "id": "31387345",
      "metadata": {
        "id": "31387345"
      },
      "outputs": [],
      "source": [
        "features_train, target_train, features_valid, target_valid, features_test,  target_test = data_preparation(df, 'is_ultra')"
      ]
    },
    {
      "cell_type": "code",
      "execution_count": null,
      "id": "2f3949af",
      "metadata": {
        "id": "2f3949af",
        "outputId": "439614ba-4c33-4f21-cbcd-bc91ea573da0"
      },
      "outputs": [
        {
          "name": "stdout",
          "output_type": "stream",
          "text": [
            "(1928, 4) (1928,) \n",
            " (643, 4) (643,) \n",
            " (643, 4) (643,)\n"
          ]
        }
      ],
      "source": [
        "print(\n",
        "    features_train.shape, target_train.shape, '\\n',\n",
        "    features_valid.shape, target_valid.shape, '\\n',\n",
        "    features_test.shape, target_test.shape)"
      ]
    },
    {
      "cell_type": "code",
      "execution_count": null,
      "id": "3d780414",
      "metadata": {
        "scrolled": true,
        "id": "3d780414",
        "outputId": "de545178-7bf8-4cc8-f9cf-653d2edcef1f"
      },
      "outputs": [
        {
          "name": "stdout",
          "output_type": "stream",
          "text": [
            "Соотношение выборок: 3:1:1\n"
          ]
        }
      ],
      "source": [
        "print('Соотношение выборок: {0}:{1}:{2}'.format(\n",
        "    round(features_train.shape[0]/features_valid.shape[0]),\n",
        "    round(features_valid.shape[0]/features_test.shape[0]),\n",
        "    round(features_valid.shape[0]/features_test.shape[0])))"
      ]
    },
    {
      "cell_type": "markdown",
      "id": "4bc177ac",
      "metadata": {
        "id": "4bc177ac"
      },
      "source": [
        "Вывод:\n",
        "\n",
        "В ходе данного пункта мы написали функцию для подготовки данных, а затем убедились, что размерности полученных выборок соответствуют заданному соотношению."
      ]
    },
    {
      "cell_type": "markdown",
      "id": "f908cccc",
      "metadata": {
        "id": "f908cccc"
      },
      "source": [
        "## Применение разных моделей, изучение их качества"
      ]
    },
    {
      "cell_type": "code",
      "execution_count": null,
      "id": "f0eff71a",
      "metadata": {
        "id": "f0eff71a"
      },
      "outputs": [],
      "source": [
        "model_name = []\n",
        "model_acc = []\n",
        "model_time = []"
      ]
    },
    {
      "cell_type": "markdown",
      "id": "5ad0e792",
      "metadata": {
        "id": "5ad0e792"
      },
      "source": [
        "### Решающее дерево\n",
        "\n",
        "Изучение качества моделей начнем с решающего дерева. Для подбора оптимального значения глубины дерева рассчитаем значения точности модели для всех значений глубин от 1 до 10 и выберем глубину с максимальной точностью, рассчитанной по валидационной выборке."
      ]
    },
    {
      "cell_type": "code",
      "execution_count": null,
      "id": "7fc09dc7",
      "metadata": {
        "scrolled": true,
        "id": "7fc09dc7",
        "outputId": "755f57bb-c947-416d-e3a9-9dd4ef7f75cd"
      },
      "outputs": [
        {
          "name": "stdout",
          "output_type": "stream",
          "text": [
            "Для лучшей модели показатель точности = 0.8227060653188181, махсимальная глубина = 7, кол-во листьев = 36, кол-во экземпляров в листе 4\n"
          ]
        }
      ],
      "source": [
        "best_tree_model = 0\n",
        "best_tree_accuracy = 0\n",
        "best_tree_depth = 0\n",
        "best_leaves_n = 0\n",
        "best_samples = 0\n",
        "time = 0\n",
        "\n",
        "for samples in range(1, 6):\n",
        "    for leaves_n in range(10, 50):\n",
        "        for depth in range(1, 11):\n",
        "            model = DecisionTreeClassifier(max_depth=depth, max_leaf_nodes=leaves_n, min_samples_leaf=samples, random_state=12345)\n",
        "            start = tm.time()\n",
        "            model.fit(features_train, target_train)\n",
        "            end = tm.time()\n",
        "            predictions_valid = model.predict(features_valid)\n",
        "            accuracy = accuracy_score(target_valid, predictions_valid)\n",
        "            if accuracy > best_tree_accuracy:\n",
        "                best_tree_model = model\n",
        "                best_tree_accuracy = accuracy\n",
        "                best_tree_depth = depth\n",
        "                best_leaves_n = leaves_n\n",
        "                best_samples = samples\n",
        "                time = end - start\n",
        "\n",
        "model_name.append('Дерево решений')\n",
        "model_acc.append(best_tree_accuracy)\n",
        "model_time.append(time)\n",
        "print('Для лучшей модели показатель точности = {0}, махсимальная глубина = {1}, кол-во листьев = {2}, кол-во экземпляров в листе {3}'\n",
        "      .format(best_tree_accuracy, best_tree_depth, best_leaves_n, best_samples))"
      ]
    },
    {
      "cell_type": "markdown",
      "id": "14354fbc",
      "metadata": {
        "id": "14354fbc"
      },
      "source": [
        "### Случайный лес\n",
        "\n",
        "Теперь перейдем к алгоритму классификации случайный лес. Для модели случайного леса будем подбирать сразу 2 гиперпараметра: глубина каждого дерева и количество этих деревьев. Найдем такие значения этих гиперпараметров, чтобы показатель точности был максимальным."
      ]
    },
    {
      "cell_type": "code",
      "execution_count": null,
      "id": "a6d01e68",
      "metadata": {
        "scrolled": true,
        "id": "a6d01e68",
        "outputId": "bf52218d-a9e1-4246-fde0-9b9a770b980a"
      },
      "outputs": [
        {
          "name": "stdout",
          "output_type": "stream",
          "text": [
            "Для лучшей модели показатель точности = 0.833592534992224, махсимальная глубина = 8, количество деревьев = 10\n"
          ]
        }
      ],
      "source": [
        "best_forest_model = 0\n",
        "best_forest_accuracy = 0\n",
        "best_forest_depth = 0\n",
        "best_forest_estimators = 0\n",
        "\n",
        "for estimators in range(1, 16):\n",
        "    for depth in range(1, 16):\n",
        "        model = RandomForestClassifier(max_depth=depth, n_estimators=estimators, random_state=12345)\n",
        "        start = tm.time()\n",
        "        model.fit(features_train, target_train)\n",
        "        end = tm.time()\n",
        "        predictions_valid = model.predict(features_valid)\n",
        "        accuracy = accuracy_score(target_valid, predictions_valid)\n",
        "        if accuracy > best_forest_accuracy:\n",
        "            best_forest_model = model\n",
        "            best_forest_accuracy = accuracy\n",
        "            best_forest_depth = depth\n",
        "            best_forest_estimators = estimators\n",
        "            time = end - start\n",
        "\n",
        "model_name.append('Случайный лес')\n",
        "model_acc.append(best_forest_accuracy)\n",
        "model_time.append(time)\n",
        "print('Для лучшей модели показатель точности = {0}, махсимальная глубина = {1}, количество деревьев = {2}'\n",
        "      .format(best_forest_accuracy, best_forest_depth, best_forest_estimators))"
      ]
    },
    {
      "cell_type": "markdown",
      "id": "b27de0a2",
      "metadata": {
        "id": "b27de0a2"
      },
      "source": [
        "### Логистическая регрессия\n",
        "\n",
        "Теперь перейдем к алгоритму классификации логистическая регрессия."
      ]
    },
    {
      "cell_type": "code",
      "execution_count": null,
      "id": "e08d161e",
      "metadata": {
        "scrolled": true,
        "id": "e08d161e",
        "outputId": "93bbc97f-bc0b-497b-f0b1-952b4ea01783"
      },
      "outputs": [
        {
          "name": "stderr",
          "output_type": "stream",
          "text": [
            "/opt/conda/lib/python3.9/site-packages/sklearn/linear_model/_logistic.py:763: ConvergenceWarning: lbfgs failed to converge (status=1):\n",
            "STOP: TOTAL NO. of ITERATIONS REACHED LIMIT.\n",
            "\n",
            "Increase the number of iterations (max_iter) or scale the data as shown in:\n",
            "    https://scikit-learn.org/stable/modules/preprocessing.html\n",
            "Please also refer to the documentation for alternative solver options:\n",
            "    https://scikit-learn.org/stable/modules/linear_model.html#logistic-regression\n",
            "  n_iter_i = _check_optimize_result(\n",
            "/opt/conda/lib/python3.9/site-packages/sklearn/linear_model/_logistic.py:763: ConvergenceWarning: lbfgs failed to converge (status=1):\n",
            "STOP: TOTAL NO. of ITERATIONS REACHED LIMIT.\n",
            "\n",
            "Increase the number of iterations (max_iter) or scale the data as shown in:\n",
            "    https://scikit-learn.org/stable/modules/preprocessing.html\n",
            "Please also refer to the documentation for alternative solver options:\n",
            "    https://scikit-learn.org/stable/modules/linear_model.html#logistic-regression\n",
            "  n_iter_i = _check_optimize_result(\n",
            "/opt/conda/lib/python3.9/site-packages/sklearn/linear_model/_logistic.py:763: ConvergenceWarning: lbfgs failed to converge (status=1):\n",
            "STOP: TOTAL NO. of ITERATIONS REACHED LIMIT.\n",
            "\n",
            "Increase the number of iterations (max_iter) or scale the data as shown in:\n",
            "    https://scikit-learn.org/stable/modules/preprocessing.html\n",
            "Please also refer to the documentation for alternative solver options:\n",
            "    https://scikit-learn.org/stable/modules/linear_model.html#logistic-regression\n",
            "  n_iter_i = _check_optimize_result(\n",
            "/opt/conda/lib/python3.9/site-packages/sklearn/linear_model/_logistic.py:763: ConvergenceWarning: lbfgs failed to converge (status=1):\n",
            "STOP: TOTAL NO. of ITERATIONS REACHED LIMIT.\n",
            "\n",
            "Increase the number of iterations (max_iter) or scale the data as shown in:\n",
            "    https://scikit-learn.org/stable/modules/preprocessing.html\n",
            "Please also refer to the documentation for alternative solver options:\n",
            "    https://scikit-learn.org/stable/modules/linear_model.html#logistic-regression\n",
            "  n_iter_i = _check_optimize_result(\n",
            "/opt/conda/lib/python3.9/site-packages/sklearn/linear_model/_logistic.py:763: ConvergenceWarning: lbfgs failed to converge (status=1):\n",
            "STOP: TOTAL NO. of ITERATIONS REACHED LIMIT.\n",
            "\n",
            "Increase the number of iterations (max_iter) or scale the data as shown in:\n",
            "    https://scikit-learn.org/stable/modules/preprocessing.html\n",
            "Please also refer to the documentation for alternative solver options:\n",
            "    https://scikit-learn.org/stable/modules/linear_model.html#logistic-regression\n",
            "  n_iter_i = _check_optimize_result(\n",
            "/opt/conda/lib/python3.9/site-packages/sklearn/linear_model/_logistic.py:763: ConvergenceWarning: lbfgs failed to converge (status=1):\n",
            "STOP: TOTAL NO. of ITERATIONS REACHED LIMIT.\n",
            "\n",
            "Increase the number of iterations (max_iter) or scale the data as shown in:\n",
            "    https://scikit-learn.org/stable/modules/preprocessing.html\n",
            "Please also refer to the documentation for alternative solver options:\n",
            "    https://scikit-learn.org/stable/modules/linear_model.html#logistic-regression\n",
            "  n_iter_i = _check_optimize_result(\n"
          ]
        },
        {
          "name": "stdout",
          "output_type": "stream",
          "text": [
            "Для модели показатель точности = 0.749611197511664, количество итераций = 6\n"
          ]
        },
        {
          "name": "stderr",
          "output_type": "stream",
          "text": [
            "/opt/conda/lib/python3.9/site-packages/sklearn/linear_model/_logistic.py:763: ConvergenceWarning: lbfgs failed to converge (status=1):\n",
            "STOP: TOTAL NO. of ITERATIONS REACHED LIMIT.\n",
            "\n",
            "Increase the number of iterations (max_iter) or scale the data as shown in:\n",
            "    https://scikit-learn.org/stable/modules/preprocessing.html\n",
            "Please also refer to the documentation for alternative solver options:\n",
            "    https://scikit-learn.org/stable/modules/linear_model.html#logistic-regression\n",
            "  n_iter_i = _check_optimize_result(\n",
            "/opt/conda/lib/python3.9/site-packages/sklearn/linear_model/_logistic.py:763: ConvergenceWarning: lbfgs failed to converge (status=1):\n",
            "STOP: TOTAL NO. of ITERATIONS REACHED LIMIT.\n",
            "\n",
            "Increase the number of iterations (max_iter) or scale the data as shown in:\n",
            "    https://scikit-learn.org/stable/modules/preprocessing.html\n",
            "Please also refer to the documentation for alternative solver options:\n",
            "    https://scikit-learn.org/stable/modules/linear_model.html#logistic-regression\n",
            "  n_iter_i = _check_optimize_result(\n",
            "/opt/conda/lib/python3.9/site-packages/sklearn/linear_model/_logistic.py:763: ConvergenceWarning: lbfgs failed to converge (status=1):\n",
            "STOP: TOTAL NO. of ITERATIONS REACHED LIMIT.\n",
            "\n",
            "Increase the number of iterations (max_iter) or scale the data as shown in:\n",
            "    https://scikit-learn.org/stable/modules/preprocessing.html\n",
            "Please also refer to the documentation for alternative solver options:\n",
            "    https://scikit-learn.org/stable/modules/linear_model.html#logistic-regression\n",
            "  n_iter_i = _check_optimize_result(\n"
          ]
        }
      ],
      "source": [
        "best_log_model = 0\n",
        "best_log_accuracy = 0\n",
        "best_log_iter = 0\n",
        "\n",
        "for iteration in range(1, 10):\n",
        "    model = LogisticRegression(solver='lbfgs', max_iter=iteration, random_state=12345)\n",
        "    start = tm.time()\n",
        "    model.fit(features_train, target_train)\n",
        "    end = tm.time()\n",
        "    predictions_valid = model.predict(features_valid)\n",
        "    accuracy = accuracy_score(target_valid, predictions_valid)\n",
        "    if accuracy > best_log_accuracy:\n",
        "            best_log_model = model\n",
        "            best_log_accuracy = accuracy\n",
        "            best_log_iter = iteration\n",
        "            time = end - start\n",
        "\n",
        "model_name.append('Логистическая регрессия')\n",
        "model_acc.append(best_log_accuracy)\n",
        "model_time.append(time)\n",
        "print('Для модели показатель точности = {0}, количество итераций = {1}'\n",
        "      .format(best_log_accuracy, best_log_iter))"
      ]
    },
    {
      "cell_type": "markdown",
      "id": "fc78b736",
      "metadata": {
        "id": "fc78b736"
      },
      "source": [
        "Как видим, в результате выполнения алгоритма появляется предупреждение о сходимости алгоритма, то есть о том, что ошибка решения изменяется в очень малом диапазоне, а следовательно увеличение количства итераций не приведет к существенному увеличению точности."
      ]
    },
    {
      "cell_type": "markdown",
      "id": "6bd7a0df",
      "metadata": {
        "id": "6bd7a0df"
      },
      "source": [
        "### Сравнение моделей\n",
        "\n",
        "Для сравнения моделей создадим список с их показателями точности и временем выполнения."
      ]
    },
    {
      "cell_type": "code",
      "execution_count": null,
      "id": "35d642e7",
      "metadata": {
        "scrolled": true,
        "id": "35d642e7",
        "outputId": "1b5ec748-22c3-4fd5-d803-c8a81ea0e11b"
      },
      "outputs": [
        {
          "data": {
            "text/html": [
              "<div>\n",
              "<style scoped>\n",
              "    .dataframe tbody tr th:only-of-type {\n",
              "        vertical-align: middle;\n",
              "    }\n",
              "\n",
              "    .dataframe tbody tr th {\n",
              "        vertical-align: top;\n",
              "    }\n",
              "\n",
              "    .dataframe thead th {\n",
              "        text-align: right;\n",
              "    }\n",
              "</style>\n",
              "<table border=\"1\" class=\"dataframe\">\n",
              "  <thead>\n",
              "    <tr style=\"text-align: right;\">\n",
              "      <th></th>\n",
              "      <th>model_name</th>\n",
              "      <th>accuracy</th>\n",
              "      <th>execution_time</th>\n",
              "    </tr>\n",
              "  </thead>\n",
              "  <tbody>\n",
              "    <tr>\n",
              "      <th>0</th>\n",
              "      <td>Дерево решений</td>\n",
              "      <td>0.822706</td>\n",
              "      <td>0.006042</td>\n",
              "    </tr>\n",
              "    <tr>\n",
              "      <th>1</th>\n",
              "      <td>Случайный лес</td>\n",
              "      <td>0.833593</td>\n",
              "      <td>0.202526</td>\n",
              "    </tr>\n",
              "    <tr>\n",
              "      <th>2</th>\n",
              "      <td>Логистическая регрессия</td>\n",
              "      <td>0.749611</td>\n",
              "      <td>0.088981</td>\n",
              "    </tr>\n",
              "  </tbody>\n",
              "</table>\n",
              "</div>"
            ],
            "text/plain": [
              "                model_name  accuracy  execution_time\n",
              "0           Дерево решений  0.822706        0.006042\n",
              "1            Случайный лес  0.833593        0.202526\n",
              "2  Логистическая регрессия  0.749611        0.088981"
            ]
          },
          "execution_count": 17,
          "metadata": {},
          "output_type": "execute_result"
        }
      ],
      "source": [
        "model_comparison = pd.DataFrame(data={'model_name': model_name, 'accuracy': model_acc, 'execution_time': model_time})\n",
        "model_comparison"
      ]
    },
    {
      "cell_type": "markdown",
      "id": "1996c392",
      "metadata": {
        "id": "1996c392"
      },
      "source": [
        "Вывод:\n",
        "\n",
        "Как видим, максимальная точность соответствует модели случаный лес, поэтому ее и будем использовать затем для проверки на тестовой выборке.\n",
        "\n",
        "Большая точность модели случаного леса по сравнению с решающим деревом объясняется тем, что данная модель по сути составляет несколько решающих деревьев, результаты вычислений которых усредняются. Большим количеством вычислений объясняется и на порядок большое время вычислений.\n",
        "\n",
        "Точность логистической регрессии оказалась наименьшей, но при этом и время вычислений также является наименьшим."
      ]
    },
    {
      "cell_type": "markdown",
      "id": "395311b2",
      "metadata": {
        "id": "395311b2"
      },
      "source": [
        "## Проверка качества модели на тестовой выборке\n",
        "\n",
        "Теперь проверим качество модели на тестовой выборке."
      ]
    },
    {
      "cell_type": "code",
      "execution_count": null,
      "id": "3f90fe8a",
      "metadata": {
        "id": "3f90fe8a",
        "outputId": "7b7cf59e-f1d5-42bd-bb71-46e609bbe19f"
      },
      "outputs": [
        {
          "data": {
            "text/plain": [
              "RandomForestClassifier(max_depth=8, n_estimators=10, random_state=12345)"
            ]
          },
          "execution_count": 18,
          "metadata": {},
          "output_type": "execute_result"
        }
      ],
      "source": [
        "model = best_forest_model\n",
        "model"
      ]
    },
    {
      "cell_type": "code",
      "execution_count": null,
      "id": "1996cb7f",
      "metadata": {
        "id": "1996cb7f",
        "outputId": "22fa7b72-dbc7-4e24-b7f3-ff2667e655f3"
      },
      "outputs": [
        {
          "name": "stdout",
          "output_type": "stream",
          "text": [
            "Показатель точности модели:  0.80871\n"
          ]
        }
      ],
      "source": [
        "predictions_test = model.predict(features_test)\n",
        "accuracy = accuracy_score(target_test, predictions_test)\n",
        "print('Показатель точности модели: ', round(accuracy, 5))"
      ]
    },
    {
      "cell_type": "markdown",
      "id": "3e20679f",
      "metadata": {
        "id": "3e20679f"
      },
      "source": [
        "Вывод:\n",
        "\n",
        "В результате проверки модели на тестовой выборке мы получили показатель точности примерно 0.81, то есть примерно в 81% случав модель верно классифицирует объект."
      ]
    },
    {
      "cell_type": "markdown",
      "id": "6322c75f",
      "metadata": {
        "id": "6322c75f"
      },
      "source": [
        "## Проверка модели на вменяемость\n",
        "\n",
        "В завершение проверим модель на вменяемость. Для этого воспользуемся константной моделью, предсказания которой не зависят от признаков объекта. Для обучения используем обучающую выборку, а для оценки качества сразу тестовую, чтобы сравнить полученный показатель с результатми работы выбранной нами модели."
      ]
    },
    {
      "cell_type": "code",
      "execution_count": null,
      "id": "e1891a82",
      "metadata": {
        "id": "e1891a82",
        "outputId": "c1034438-32e4-4189-cdca-16f02a56d60f"
      },
      "outputs": [
        {
          "name": "stdout",
          "output_type": "stream",
          "text": [
            "Показатель точности модели:  0.69362\n"
          ]
        }
      ],
      "source": [
        "model = DummyClassifier(strategy='most_frequent')\n",
        "model.fit(features_train, target_train)\n",
        "predictions = model.predict(features_test)\n",
        "accuracy = accuracy_score(target_test, predictions)\n",
        "print('Показатель точности модели: ', round(accuracy, 5))"
      ]
    },
    {
      "cell_type": "markdown",
      "id": "63fbeb55",
      "metadata": {
        "id": "63fbeb55"
      },
      "source": [
        "Вывод:\n",
        "\n",
        "Полученный показатель точности для константной модели меньше показателя точности для нашей модели."
      ]
    },
    {
      "cell_type": "markdown",
      "id": "ad8d5a18",
      "metadata": {
        "id": "ad8d5a18"
      },
      "source": [
        "## Вывод\n",
        "\n",
        "В ходе данной работы нами были получены данные, затем они были проверены, из чего нами был сделан вывод об отсутствии необходимости в их предобработку.\n",
        "\n",
        "Затем на имеющихся данных были обучены три модели из которых по показателю точности была выбрана наилучшая модель. Ее точность предсказания для тестовой выборки достигает 81%.\n",
        "\n",
        "Для того, чтобы убедиться в правильности работы модели мыл проведен тест на ее вменяемость, в ходе которого оказалось, что ее точность превышает точноть константной модели."
      ]
    }
  ],
  "metadata": {
    "ExecuteTimeLog": [
      {
        "duration": 2489,
        "start_time": "2023-05-31T05:14:39.741Z"
      },
      {
        "duration": 85,
        "start_time": "2023-05-31T05:14:42.232Z"
      },
      {
        "duration": 25,
        "start_time": "2023-05-31T05:14:42.319Z"
      },
      {
        "duration": 13,
        "start_time": "2023-05-31T05:14:42.346Z"
      },
      {
        "duration": 832,
        "start_time": "2023-05-31T05:14:42.361Z"
      },
      {
        "duration": 4,
        "start_time": "2023-05-31T05:14:43.195Z"
      },
      {
        "duration": 11,
        "start_time": "2023-05-31T05:14:43.201Z"
      },
      {
        "duration": 12,
        "start_time": "2023-05-31T05:14:43.214Z"
      },
      {
        "duration": 3,
        "start_time": "2023-05-31T05:14:43.228Z"
      },
      {
        "duration": 76,
        "start_time": "2023-05-31T05:14:43.232Z"
      },
      {
        "duration": 5762,
        "start_time": "2023-05-31T05:14:43.310Z"
      },
      {
        "duration": 144,
        "start_time": "2023-05-31T05:14:49.074Z"
      },
      {
        "duration": 0,
        "start_time": "2023-05-31T05:14:49.220Z"
      },
      {
        "duration": 0,
        "start_time": "2023-05-31T05:14:49.221Z"
      },
      {
        "duration": 0,
        "start_time": "2023-05-31T05:14:49.222Z"
      },
      {
        "duration": 0,
        "start_time": "2023-05-31T05:14:49.223Z"
      },
      {
        "duration": 36,
        "start_time": "2023-05-31T05:19:02.519Z"
      },
      {
        "duration": 41,
        "start_time": "2023-05-31T05:19:28.451Z"
      },
      {
        "duration": 1322,
        "start_time": "2023-05-31T05:19:37.475Z"
      },
      {
        "duration": 1297,
        "start_time": "2023-05-31T05:20:04.392Z"
      },
      {
        "duration": 1277,
        "start_time": "2023-05-31T05:20:24.884Z"
      },
      {
        "duration": 1368,
        "start_time": "2023-05-31T05:20:33.403Z"
      },
      {
        "duration": 1349,
        "start_time": "2023-05-31T05:20:37.988Z"
      },
      {
        "duration": 1297,
        "start_time": "2023-05-31T05:20:49.932Z"
      },
      {
        "duration": 22,
        "start_time": "2023-05-31T05:20:51.231Z"
      },
      {
        "duration": 0,
        "start_time": "2023-05-31T05:20:51.255Z"
      },
      {
        "duration": 0,
        "start_time": "2023-05-31T05:20:51.256Z"
      },
      {
        "duration": 0,
        "start_time": "2023-05-31T05:20:51.257Z"
      },
      {
        "duration": 1308,
        "start_time": "2023-05-31T05:21:29.659Z"
      },
      {
        "duration": 12,
        "start_time": "2023-05-31T16:21:17.895Z"
      },
      {
        "duration": 80,
        "start_time": "2023-05-31T16:21:24.508Z"
      },
      {
        "duration": 4,
        "start_time": "2023-05-31T16:21:32.197Z"
      },
      {
        "duration": 4,
        "start_time": "2023-05-31T16:21:37.986Z"
      },
      {
        "duration": 64,
        "start_time": "2023-05-31T16:21:41.538Z"
      },
      {
        "duration": 6,
        "start_time": "2023-05-31T16:25:56.176Z"
      },
      {
        "duration": 5,
        "start_time": "2023-05-31T16:26:06.502Z"
      },
      {
        "duration": 4,
        "start_time": "2023-05-31T16:33:46.048Z"
      },
      {
        "duration": 4,
        "start_time": "2023-05-31T16:34:14.582Z"
      },
      {
        "duration": 4,
        "start_time": "2023-05-31T16:34:42.002Z"
      },
      {
        "duration": 3,
        "start_time": "2023-05-31T16:34:55.102Z"
      },
      {
        "duration": 4,
        "start_time": "2023-05-31T16:35:00.006Z"
      },
      {
        "duration": 5,
        "start_time": "2023-05-31T16:35:08.540Z"
      },
      {
        "duration": 10,
        "start_time": "2023-05-31T16:49:54.707Z"
      },
      {
        "duration": 1174,
        "start_time": "2023-05-31T16:50:03.441Z"
      },
      {
        "duration": 109,
        "start_time": "2023-05-31T16:50:04.617Z"
      },
      {
        "duration": 13,
        "start_time": "2023-05-31T16:50:06.088Z"
      },
      {
        "duration": 11,
        "start_time": "2023-05-31T16:50:06.593Z"
      },
      {
        "duration": 1061,
        "start_time": "2023-05-31T16:50:07.422Z"
      },
      {
        "duration": 5,
        "start_time": "2023-05-31T16:50:10.712Z"
      },
      {
        "duration": 4,
        "start_time": "2023-05-31T16:50:10.904Z"
      },
      {
        "duration": 4,
        "start_time": "2023-05-31T16:50:11.882Z"
      },
      {
        "duration": 109,
        "start_time": "2023-05-31T16:50:13.104Z"
      },
      {
        "duration": 83,
        "start_time": "2023-05-31T16:50:46.979Z"
      },
      {
        "duration": 16,
        "start_time": "2023-05-31T16:51:03.081Z"
      },
      {
        "duration": 6,
        "start_time": "2023-05-31T17:02:04.741Z"
      },
      {
        "duration": 14,
        "start_time": "2023-05-31T17:02:15.470Z"
      },
      {
        "duration": 17,
        "start_time": "2023-05-31T17:02:18.987Z"
      },
      {
        "duration": 9,
        "start_time": "2023-05-31T17:02:58.409Z"
      },
      {
        "duration": 9,
        "start_time": "2023-05-31T17:03:08.411Z"
      },
      {
        "duration": 8,
        "start_time": "2023-05-31T17:03:31.042Z"
      },
      {
        "duration": 15,
        "start_time": "2023-05-31T17:03:41.627Z"
      },
      {
        "duration": 10,
        "start_time": "2023-05-31T17:03:54.817Z"
      },
      {
        "duration": 8,
        "start_time": "2023-05-31T17:04:01.581Z"
      },
      {
        "duration": 16,
        "start_time": "2023-05-31T17:04:32.325Z"
      },
      {
        "duration": 19,
        "start_time": "2023-05-31T17:04:50.524Z"
      },
      {
        "duration": 19,
        "start_time": "2023-05-31T17:04:57.023Z"
      },
      {
        "duration": 13,
        "start_time": "2023-05-31T17:05:14.619Z"
      },
      {
        "duration": 13,
        "start_time": "2023-05-31T17:05:33.425Z"
      },
      {
        "duration": 14,
        "start_time": "2023-05-31T17:05:45.750Z"
      },
      {
        "duration": 12,
        "start_time": "2023-05-31T17:05:51.717Z"
      },
      {
        "duration": 13,
        "start_time": "2023-05-31T17:06:15.303Z"
      },
      {
        "duration": 21,
        "start_time": "2023-05-31T17:06:20.620Z"
      },
      {
        "duration": 11,
        "start_time": "2023-05-31T17:06:21.012Z"
      },
      {
        "duration": 15,
        "start_time": "2023-05-31T17:06:42.582Z"
      },
      {
        "duration": 17,
        "start_time": "2023-05-31T17:06:51.120Z"
      },
      {
        "duration": 15,
        "start_time": "2023-05-31T17:06:56.042Z"
      },
      {
        "duration": 20,
        "start_time": "2023-05-31T17:07:04.512Z"
      },
      {
        "duration": 10,
        "start_time": "2023-05-31T17:07:06.206Z"
      },
      {
        "duration": 9,
        "start_time": "2023-05-31T17:07:14.342Z"
      },
      {
        "duration": 10,
        "start_time": "2023-05-31T17:07:18.345Z"
      },
      {
        "duration": 9,
        "start_time": "2023-05-31T17:07:46.692Z"
      },
      {
        "duration": 6,
        "start_time": "2023-05-31T17:08:04.949Z"
      },
      {
        "duration": 15,
        "start_time": "2023-05-31T17:10:12.490Z"
      },
      {
        "duration": 4,
        "start_time": "2023-05-31T17:10:12.915Z"
      },
      {
        "duration": 3,
        "start_time": "2023-05-31T17:10:16.688Z"
      },
      {
        "duration": 85,
        "start_time": "2023-05-31T17:10:17.789Z"
      },
      {
        "duration": 5755,
        "start_time": "2023-05-31T17:10:25.599Z"
      },
      {
        "duration": 450,
        "start_time": "2023-05-31T17:10:34.293Z"
      },
      {
        "duration": 461,
        "start_time": "2023-05-31T17:11:15.277Z"
      },
      {
        "duration": 19,
        "start_time": "2023-05-31T17:11:22.523Z"
      },
      {
        "duration": 76,
        "start_time": "2023-05-31T17:47:34.675Z"
      },
      {
        "duration": 3,
        "start_time": "2023-05-31T17:47:40.223Z"
      },
      {
        "duration": 67,
        "start_time": "2023-05-31T17:48:11.787Z"
      },
      {
        "duration": 4,
        "start_time": "2023-05-31T17:48:19.771Z"
      },
      {
        "duration": 4,
        "start_time": "2023-05-31T17:48:35.526Z"
      },
      {
        "duration": 3,
        "start_time": "2023-05-31T18:03:58.502Z"
      },
      {
        "duration": 86,
        "start_time": "2023-05-31T18:03:58.909Z"
      },
      {
        "duration": 10,
        "start_time": "2023-05-31T18:03:59.524Z"
      },
      {
        "duration": 16,
        "start_time": "2023-05-31T18:03:59.730Z"
      },
      {
        "duration": 602,
        "start_time": "2023-05-31T18:03:59.956Z"
      },
      {
        "duration": 4,
        "start_time": "2023-05-31T18:04:02.217Z"
      },
      {
        "duration": 4,
        "start_time": "2023-05-31T18:04:02.434Z"
      },
      {
        "duration": 8,
        "start_time": "2023-05-31T18:04:03.224Z"
      },
      {
        "duration": 14,
        "start_time": "2023-05-31T18:04:03.844Z"
      },
      {
        "duration": 4,
        "start_time": "2023-05-31T18:04:04.322Z"
      },
      {
        "duration": 3,
        "start_time": "2023-05-31T18:04:15.046Z"
      },
      {
        "duration": 64,
        "start_time": "2023-05-31T18:04:16.451Z"
      },
      {
        "duration": 5457,
        "start_time": "2023-05-31T18:04:19.556Z"
      },
      {
        "duration": 436,
        "start_time": "2023-05-31T18:04:27.453Z"
      },
      {
        "duration": 8,
        "start_time": "2023-05-31T18:04:30.121Z"
      },
      {
        "duration": 5,
        "start_time": "2023-05-31T18:04:49.185Z"
      },
      {
        "duration": 3,
        "start_time": "2023-05-31T18:04:56.340Z"
      },
      {
        "duration": 8,
        "start_time": "2023-05-31T18:04:57.172Z"
      },
      {
        "duration": 5,
        "start_time": "2023-05-31T18:05:05.099Z"
      },
      {
        "duration": 4,
        "start_time": "2023-05-31T18:21:02.976Z"
      },
      {
        "duration": 4,
        "start_time": "2023-05-31T18:21:15.941Z"
      },
      {
        "duration": 3,
        "start_time": "2023-05-31T18:47:50.675Z"
      },
      {
        "duration": 91,
        "start_time": "2023-05-31T18:47:51.337Z"
      },
      {
        "duration": 17,
        "start_time": "2023-05-31T18:47:51.923Z"
      },
      {
        "duration": 18,
        "start_time": "2023-05-31T18:47:52.123Z"
      },
      {
        "duration": 564,
        "start_time": "2023-05-31T18:47:52.545Z"
      },
      {
        "duration": 4,
        "start_time": "2023-05-31T18:47:54.649Z"
      },
      {
        "duration": 4,
        "start_time": "2023-05-31T18:47:54.982Z"
      },
      {
        "duration": 4,
        "start_time": "2023-05-31T18:47:55.707Z"
      },
      {
        "duration": 15,
        "start_time": "2023-05-31T18:47:57.176Z"
      },
      {
        "duration": 5,
        "start_time": "2023-05-31T18:47:57.968Z"
      },
      {
        "duration": 4,
        "start_time": "2023-05-31T18:48:01.620Z"
      },
      {
        "duration": 3,
        "start_time": "2023-05-31T18:52:31.651Z"
      },
      {
        "duration": 82,
        "start_time": "2023-05-31T18:52:32.586Z"
      },
      {
        "duration": 10,
        "start_time": "2023-05-31T18:52:34.003Z"
      },
      {
        "duration": 11,
        "start_time": "2023-05-31T18:52:34.482Z"
      },
      {
        "duration": 692,
        "start_time": "2023-05-31T18:52:34.959Z"
      },
      {
        "duration": 4,
        "start_time": "2023-05-31T18:52:37.554Z"
      },
      {
        "duration": 4,
        "start_time": "2023-05-31T18:52:37.852Z"
      },
      {
        "duration": 4,
        "start_time": "2023-05-31T18:52:38.592Z"
      },
      {
        "duration": 22,
        "start_time": "2023-05-31T18:52:39.921Z"
      },
      {
        "duration": 11,
        "start_time": "2023-05-31T18:52:40.607Z"
      },
      {
        "duration": 4,
        "start_time": "2023-05-31T18:52:41.210Z"
      },
      {
        "duration": 5,
        "start_time": "2023-05-31T18:52:41.652Z"
      },
      {
        "duration": 3,
        "start_time": "2023-05-31T18:52:50.499Z"
      },
      {
        "duration": 71,
        "start_time": "2023-05-31T18:52:52.492Z"
      },
      {
        "duration": 73,
        "start_time": "2023-05-31T20:03:24.017Z"
      },
      {
        "duration": 5611,
        "start_time": "2023-05-31T20:10:12.663Z"
      },
      {
        "duration": 6194,
        "start_time": "2023-05-31T20:11:55.566Z"
      },
      {
        "duration": 5755,
        "start_time": "2023-05-31T20:12:09.006Z"
      },
      {
        "duration": 13,
        "start_time": "2023-05-31T20:13:12.673Z"
      },
      {
        "duration": 11,
        "start_time": "2023-05-31T20:17:21.482Z"
      },
      {
        "duration": 120241,
        "start_time": "2023-05-31T20:17:32.996Z"
      },
      {
        "duration": 4,
        "start_time": "2023-05-31T20:20:00.092Z"
      },
      {
        "duration": 8905,
        "start_time": "2023-05-31T20:20:51.507Z"
      },
      {
        "duration": 13142,
        "start_time": "2023-05-31T20:21:17.393Z"
      },
      {
        "duration": 6586,
        "start_time": "2023-05-31T20:21:40.791Z"
      },
      {
        "duration": 501,
        "start_time": "2023-05-31T20:21:54.410Z"
      },
      {
        "duration": 525,
        "start_time": "2023-05-31T20:22:51.092Z"
      },
      {
        "duration": 15,
        "start_time": "2023-05-31T20:23:04.098Z"
      },
      {
        "duration": 1146,
        "start_time": "2023-05-31T20:23:27.647Z"
      },
      {
        "duration": 69,
        "start_time": "2023-05-31T20:23:40.720Z"
      },
      {
        "duration": 12,
        "start_time": "2023-05-31T20:58:53.618Z"
      },
      {
        "duration": 3,
        "start_time": "2023-05-31T20:59:07.716Z"
      },
      {
        "duration": 65,
        "start_time": "2023-05-31T20:59:08.254Z"
      },
      {
        "duration": 10,
        "start_time": "2023-05-31T20:59:08.758Z"
      },
      {
        "duration": 15,
        "start_time": "2023-05-31T20:59:09.000Z"
      },
      {
        "duration": 594,
        "start_time": "2023-05-31T20:59:09.165Z"
      },
      {
        "duration": 4,
        "start_time": "2023-05-31T20:59:10.263Z"
      },
      {
        "duration": 4,
        "start_time": "2023-05-31T20:59:10.447Z"
      },
      {
        "duration": 3,
        "start_time": "2023-05-31T20:59:10.844Z"
      },
      {
        "duration": 5,
        "start_time": "2023-05-31T20:59:11.194Z"
      },
      {
        "duration": 12,
        "start_time": "2023-05-31T20:59:11.393Z"
      },
      {
        "duration": 4,
        "start_time": "2023-05-31T20:59:11.739Z"
      },
      {
        "duration": 4,
        "start_time": "2023-05-31T20:59:11.886Z"
      },
      {
        "duration": 3,
        "start_time": "2023-05-31T20:59:14.072Z"
      },
      {
        "duration": 12068,
        "start_time": "2023-05-31T20:59:14.428Z"
      },
      {
        "duration": 5864,
        "start_time": "2023-05-31T20:59:26.498Z"
      },
      {
        "duration": 81,
        "start_time": "2023-05-31T20:59:32.363Z"
      },
      {
        "duration": 8,
        "start_time": "2023-05-31T20:59:32.446Z"
      },
      {
        "duration": 4,
        "start_time": "2023-05-31T21:04:31.490Z"
      },
      {
        "duration": 15,
        "start_time": "2023-05-31T21:04:32.620Z"
      },
      {
        "duration": 9,
        "start_time": "2023-05-31T21:04:45.350Z"
      },
      {
        "duration": 3,
        "start_time": "2023-05-31T21:05:28.361Z"
      },
      {
        "duration": 99,
        "start_time": "2023-05-31T21:05:29.765Z"
      },
      {
        "duration": 10,
        "start_time": "2023-05-31T21:05:30.383Z"
      },
      {
        "duration": 11,
        "start_time": "2023-05-31T21:05:30.680Z"
      },
      {
        "duration": 748,
        "start_time": "2023-05-31T21:05:30.813Z"
      },
      {
        "duration": 24,
        "start_time": "2023-05-31T21:05:31.725Z"
      },
      {
        "duration": 4,
        "start_time": "2023-05-31T21:05:31.885Z"
      },
      {
        "duration": 3,
        "start_time": "2023-05-31T21:05:32.209Z"
      },
      {
        "duration": 5,
        "start_time": "2023-05-31T21:05:32.507Z"
      },
      {
        "duration": 12,
        "start_time": "2023-05-31T21:05:32.663Z"
      },
      {
        "duration": 8,
        "start_time": "2023-05-31T21:05:32.825Z"
      },
      {
        "duration": 4,
        "start_time": "2023-05-31T21:05:32.998Z"
      },
      {
        "duration": 3,
        "start_time": "2023-05-31T21:05:34.071Z"
      },
      {
        "duration": 12049,
        "start_time": "2023-05-31T21:05:34.393Z"
      },
      {
        "duration": 5764,
        "start_time": "2023-05-31T21:05:46.443Z"
      },
      {
        "duration": 71,
        "start_time": "2023-05-31T21:05:52.209Z"
      },
      {
        "duration": 8,
        "start_time": "2023-05-31T21:05:52.282Z"
      },
      {
        "duration": 13,
        "start_time": "2023-05-31T21:05:52.291Z"
      },
      {
        "duration": 33,
        "start_time": "2023-05-31T21:05:52.306Z"
      },
      {
        "duration": 6,
        "start_time": "2023-05-31T21:05:52.340Z"
      },
      {
        "duration": 2772,
        "start_time": "2023-06-01T11:13:51.468Z"
      },
      {
        "duration": 361,
        "start_time": "2023-06-01T11:13:54.242Z"
      },
      {
        "duration": 16,
        "start_time": "2023-06-01T11:13:54.604Z"
      },
      {
        "duration": 22,
        "start_time": "2023-06-01T11:13:54.621Z"
      },
      {
        "duration": 1117,
        "start_time": "2023-06-01T11:13:54.646Z"
      },
      {
        "duration": 3,
        "start_time": "2023-06-01T11:13:55.765Z"
      },
      {
        "duration": 5,
        "start_time": "2023-06-01T11:13:55.769Z"
      },
      {
        "duration": 4,
        "start_time": "2023-06-01T11:13:55.776Z"
      },
      {
        "duration": 6,
        "start_time": "2023-06-01T11:13:55.781Z"
      },
      {
        "duration": 155,
        "start_time": "2023-06-01T11:13:55.788Z"
      },
      {
        "duration": 0,
        "start_time": "2023-06-01T11:13:55.945Z"
      },
      {
        "duration": 0,
        "start_time": "2023-06-01T11:13:55.946Z"
      },
      {
        "duration": 0,
        "start_time": "2023-06-01T11:13:55.946Z"
      },
      {
        "duration": 0,
        "start_time": "2023-06-01T11:13:55.947Z"
      },
      {
        "duration": 0,
        "start_time": "2023-06-01T11:13:55.948Z"
      },
      {
        "duration": 0,
        "start_time": "2023-06-01T11:13:55.949Z"
      },
      {
        "duration": 0,
        "start_time": "2023-06-01T11:13:55.950Z"
      },
      {
        "duration": 0,
        "start_time": "2023-06-01T11:13:55.951Z"
      },
      {
        "duration": 0,
        "start_time": "2023-06-01T11:13:55.952Z"
      },
      {
        "duration": 0,
        "start_time": "2023-06-01T11:13:55.952Z"
      },
      {
        "duration": 1235,
        "start_time": "2023-06-01T11:25:56.527Z"
      },
      {
        "duration": 119,
        "start_time": "2023-06-01T11:25:58.960Z"
      },
      {
        "duration": 27,
        "start_time": "2023-06-01T11:26:00.056Z"
      },
      {
        "duration": 12,
        "start_time": "2023-06-01T11:26:00.769Z"
      },
      {
        "duration": 1240,
        "start_time": "2023-06-01T11:26:01.574Z"
      },
      {
        "duration": 5,
        "start_time": "2023-06-01T11:26:05.307Z"
      },
      {
        "duration": 4,
        "start_time": "2023-06-01T11:26:05.566Z"
      },
      {
        "duration": 4,
        "start_time": "2023-06-01T11:26:06.415Z"
      },
      {
        "duration": 7,
        "start_time": "2023-06-01T11:26:09.966Z"
      },
      {
        "duration": 140,
        "start_time": "2023-06-01T11:26:13.016Z"
      },
      {
        "duration": 5,
        "start_time": "2023-06-01T11:26:23.460Z"
      },
      {
        "duration": 15,
        "start_time": "2023-06-01T11:26:24.223Z"
      },
      {
        "duration": 4,
        "start_time": "2023-06-01T11:26:31.609Z"
      },
      {
        "duration": 169,
        "start_time": "2023-06-01T11:26:32.028Z"
      },
      {
        "duration": 10,
        "start_time": "2023-06-01T11:26:32.767Z"
      },
      {
        "duration": 10,
        "start_time": "2023-06-01T11:26:33.087Z"
      },
      {
        "duration": 701,
        "start_time": "2023-06-01T11:26:33.289Z"
      },
      {
        "duration": 4,
        "start_time": "2023-06-01T11:26:35.398Z"
      },
      {
        "duration": 13,
        "start_time": "2023-06-01T11:26:35.631Z"
      },
      {
        "duration": 5,
        "start_time": "2023-06-01T11:26:36.420Z"
      },
      {
        "duration": 5,
        "start_time": "2023-06-01T11:26:37.902Z"
      },
      {
        "duration": 20,
        "start_time": "2023-06-01T11:26:38.973Z"
      },
      {
        "duration": 5,
        "start_time": "2023-06-01T11:26:42.472Z"
      },
      {
        "duration": 4,
        "start_time": "2023-06-01T11:26:56.167Z"
      },
      {
        "duration": 14,
        "start_time": "2023-06-01T11:27:27.774Z"
      },
      {
        "duration": 4,
        "start_time": "2023-06-01T11:27:43.702Z"
      },
      {
        "duration": 5,
        "start_time": "2023-06-01T11:28:10.691Z"
      },
      {
        "duration": 82,
        "start_time": "2023-06-01T11:28:11.224Z"
      },
      {
        "duration": 14,
        "start_time": "2023-06-01T11:28:12.368Z"
      },
      {
        "duration": 16,
        "start_time": "2023-06-01T11:28:12.887Z"
      },
      {
        "duration": 632,
        "start_time": "2023-06-01T11:28:13.321Z"
      },
      {
        "duration": 4,
        "start_time": "2023-06-01T11:28:16.486Z"
      },
      {
        "duration": 7,
        "start_time": "2023-06-01T11:28:16.725Z"
      },
      {
        "duration": 4,
        "start_time": "2023-06-01T11:28:17.486Z"
      },
      {
        "duration": 7,
        "start_time": "2023-06-01T11:28:19.476Z"
      },
      {
        "duration": 13,
        "start_time": "2023-06-01T11:28:20.583Z"
      },
      {
        "duration": 10,
        "start_time": "2023-06-01T11:28:22.433Z"
      },
      {
        "duration": 4,
        "start_time": "2023-06-01T11:28:24.116Z"
      },
      {
        "duration": 7186,
        "start_time": "2023-06-01T16:59:22.172Z"
      },
      {
        "duration": 397,
        "start_time": "2023-06-01T16:59:29.361Z"
      },
      {
        "duration": 199,
        "start_time": "2023-06-01T16:59:29.759Z"
      },
      {
        "duration": 98,
        "start_time": "2023-06-01T16:59:29.966Z"
      },
      {
        "duration": 5995,
        "start_time": "2023-06-01T16:59:30.070Z"
      },
      {
        "duration": 5,
        "start_time": "2023-06-01T16:59:36.157Z"
      },
      {
        "duration": 95,
        "start_time": "2023-06-01T16:59:36.166Z"
      },
      {
        "duration": 191,
        "start_time": "2023-06-01T16:59:36.266Z"
      },
      {
        "duration": 13,
        "start_time": "2023-06-01T16:59:36.459Z"
      },
      {
        "duration": 103,
        "start_time": "2023-06-01T16:59:36.474Z"
      },
      {
        "duration": 9,
        "start_time": "2023-06-01T16:59:36.657Z"
      },
      {
        "duration": 6,
        "start_time": "2023-06-01T16:59:36.668Z"
      },
      {
        "duration": 93,
        "start_time": "2023-06-01T16:59:36.675Z"
      },
      {
        "duration": 87988,
        "start_time": "2023-06-01T16:59:36.772Z"
      },
      {
        "duration": 44599,
        "start_time": "2023-06-01T17:01:04.762Z"
      },
      {
        "duration": 408,
        "start_time": "2023-06-01T17:01:49.363Z"
      },
      {
        "duration": 96,
        "start_time": "2023-06-01T17:01:49.772Z"
      },
      {
        "duration": 92,
        "start_time": "2023-06-01T17:01:49.874Z"
      },
      {
        "duration": 187,
        "start_time": "2023-06-01T17:01:49.971Z"
      },
      {
        "duration": 92,
        "start_time": "2023-06-01T17:01:50.164Z"
      }
    ],
    "kernelspec": {
      "display_name": "Python 3 (ipykernel)",
      "language": "python",
      "name": "python3"
    },
    "language_info": {
      "codemirror_mode": {
        "name": "ipython",
        "version": 3
      },
      "file_extension": ".py",
      "mimetype": "text/x-python",
      "name": "python",
      "nbconvert_exporter": "python",
      "pygments_lexer": "ipython3",
      "version": "3.9.5"
    },
    "toc": {
      "base_numbering": 1,
      "nav_menu": {},
      "number_sections": true,
      "sideBar": true,
      "skip_h1_title": true,
      "title_cell": "Table of Contents",
      "title_sidebar": "Contents",
      "toc_cell": false,
      "toc_position": {
        "height": "calc(100% - 180px)",
        "left": "10px",
        "top": "150px",
        "width": "165px"
      },
      "toc_section_display": true,
      "toc_window_display": true
    },
    "colab": {
      "provenance": []
    }
  },
  "nbformat": 4,
  "nbformat_minor": 5
}